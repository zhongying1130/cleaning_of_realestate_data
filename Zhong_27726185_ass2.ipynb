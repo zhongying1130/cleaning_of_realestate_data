{
 "cells": [
  {
   "cell_type": "markdown",
   "metadata": {},
   "source": [
    "# FIT5196 Assessment 2\n",
    "#### Student Name: Zhong Ying\n",
    "#### Student ID: 27726185\n",
    "\n",
    "Date: 06/05/2017\n",
    "\n",
    "Version: 2.0\n",
    "\n",
    "Environment: Python 3.5.2 and Anaconda 4.1.1 (64-bit)\n",
    "\n",
    "Libraries used:\n",
    "* json (for parsing json doc, included in Anaconda Python 3.5)\n",
    "* matplotlib.pyplot (for graph, included in Anaconda Python 3.5) \n",
    "* re (for regular expression, included in Anaconda Python 3.5) \n",
    "* pandas.io.json (for normalize json file, included in Anaconda Python 3.5)\n",
    "* pandas (for dataframe, included in Anaconda Python 3.5)\n",
    "* LinearRegression (for fitting linear regression model, included in Anaconda Python 3.5)\n",
    "* numpy (for treating null value, included in Anaconda Python 3.5)\n",
    "* statsmodels.stats.stattools (for skewed outlier, included in Anaconda Python 3.5)\n",
    "\n",
    "\n",
    "\n",
    "## 1. Introduction\n",
    "This assignment consists of parsing the data stored in 'data.dat' file into the wanted formant and detecting all possible data anomaly in the data such as syntactical anomalies, sematic anomalies and coverage anomalies. In addition, appropriate solution dealing with errors need to be provided and justified in this assignment, the required tasks are the following:\n",
    "\n",
    "1. Examine and load data into a dataframe.\n",
    "2. Parse the loaded data so that each column has the required attribute name and proper type.\n",
    "3. Audit and cleanse loaded data, including identify the data problems and fix the problems. .\n",
    "\n",
    "More details for each task will be given in the following sections."
   ]
  },
  {
   "cell_type": "markdown",
   "metadata": {},
   "source": [
    "## 2. Import libraries"
   ]
  },
  {
   "cell_type": "code",
   "execution_count": 1,
   "metadata": {
    "collapsed": false
   },
   "outputs": [],
   "source": [
    "import json\n",
    "import matplotlib.pyplot as plt\n",
    "from pandas.io.json import json_normalize\n",
    "import re\n",
    "import pandas as pd\n",
    "from sklearn.linear_model import LinearRegression\n",
    "import numpy as np\n",
    "import statsmodels.stats.stattools as sm\n",
    "import math\n",
    "%matplotlib inline\n",
    "plt.style.use( 'ggplot' )"
   ]
  },
  {
   "cell_type": "markdown",
   "metadata": {},
   "source": [
    "## 3. Examining and loading data"
   ]
  },
  {
   "cell_type": "markdown",
   "metadata": {},
   "source": [
    "Firstly, we inpect the data in the notepad, we found that the data is structured in the following pattern: \n",
    "```\n",
    "{\"houses\": \n",
    "  [\n",
    "   {\n",
    "    \"area\": \n",
    "          {\n",
    "           \"sqft_basement\": 0, \n",
    "           \"sqft_above\": 1340, \n",
    "           \"sqft_living/sqft_lot\": \"sqft_living/sqft_lot=1340\\\\ 7912\"\n",
    "           },\n",
    "    \"yr_renovated\": NaN, \n",
    "    \"price\": 313000.0, \n",
    "    \"waterfront\": 0,\n",
    "    \"floors\": 1.5, \n",
    "    \"rooms\": \"Number of bathrooms: 1.5; Number of bedrooms: 3\", \n",
    "    \"address\": \"18810 Densmore Ave N, Shoreline, WA 98133, USA\", \n",
    "    \"date\": \"20140502T000000\", \n",
    "    \"yr_built\": 1955, \"condition\": 3,\n",
    "    \"view\": 0\n",
    "   }, \n",
    "   \n",
    "   {\n",
    "    \"area\": \n",
    "          {\n",
    "           \"sqft_basement\": \n",
    "           ...\n",
    "           },\n",
    "    .....\n",
    "    \"date\": , \n",
    "    \"yr_built\": ,\n",
    "    \"view\": \n",
    "   }, \n",
    "....\n",
    "....\n",
    "\n",
    "  ]\n",
    "```\n",
    "From our observation above, each data record looks like a Python dictionary and the file contains a list of dictionaries, in which key-value pair for each row and the key and value are separated by a colon. These characteristics indicate that the file is in the format of json. So we can use the json.load function to load the data into a Python dictionary. \n",
    "\n",
    "The data that we want to convert to dataframe are a list of dictionaries stored as the values of the key \"houses\", since they are inner dictionaries embedded inside an outer dictionary, we can not directly use read_json to convert the dictionary into table, instead we need to extract the lables inside the list and flatten the list into a dataframe. What we are going to do is to use a JSON normalization function (json_normalize()) that takes a dict or list of dicts and normalize semi-structured data into a flat table. "
   ]
  },
  {
   "cell_type": "code",
   "execution_count": 2,
   "metadata": {
    "collapsed": true
   },
   "outputs": [],
   "source": [
    "with open(\"./data.dat\") as json_file:   \n",
    "    json_data = json.load(json_file)  # load json file to python dictionary"
   ]
  },
  {
   "cell_type": "code",
   "execution_count": 3,
   "metadata": {
    "collapsed": false
   },
   "outputs": [],
   "source": [
    "df = json_normalize(json_data, 'houses')  # flatten the list to dataframe"
   ]
  },
  {
   "cell_type": "markdown",
   "metadata": {},
   "source": [
    "## 4. Parse data into required format"
   ]
  },
  {
   "cell_type": "markdown",
   "metadata": {},
   "source": [
    "Although we have loaded the data into a dataframe called df, the format of dataframe is not exactly what we want because some columns contain more than one attributes thus should be further split into single attributes. To be more specific, three columns need to be split,i.e. 'address' can break up into four new variabls: 'street','city', 'statezip'and 'country'; 'area' can be divided into four new variables: 'sqft_living','sqft_lot','sqft_above' and 'sqft_basement'; at last, 'rooms' can generate attributes of 'bathrooms' and 'bedrooms'. In the next step, we will extract the required information from the above-memtioned variables and assign them to a new column to make the dataframe more clear and simple."
   ]
  },
  {
   "cell_type": "code",
   "execution_count": 4,
   "metadata": {
    "collapsed": false
   },
   "outputs": [
    {
     "name": "stdout",
     "output_type": "stream",
     "text": [
      "4601\n"
     ]
    },
    {
     "data": {
      "text/html": [
       "<div>\n",
       "<table border=\"1\" class=\"dataframe\">\n",
       "  <thead>\n",
       "    <tr style=\"text-align: right;\">\n",
       "      <th></th>\n",
       "      <th>address</th>\n",
       "      <th>area</th>\n",
       "      <th>condition</th>\n",
       "      <th>date</th>\n",
       "      <th>floors</th>\n",
       "      <th>price</th>\n",
       "      <th>rooms</th>\n",
       "      <th>view</th>\n",
       "      <th>waterfront</th>\n",
       "      <th>yr_built</th>\n",
       "      <th>yr_renovated</th>\n",
       "    </tr>\n",
       "  </thead>\n",
       "  <tbody>\n",
       "    <tr>\n",
       "      <th>0</th>\n",
       "      <td>18810 Densmore Ave N, Shoreline, WA 98133, USA</td>\n",
       "      <td>{'sqft_living/sqft_lot': 'sqft_living/sqft_lot=1340\\ 7912', 'sqft_basement': 0, 'sqft_above': 1340}</td>\n",
       "      <td>3</td>\n",
       "      <td>20140502T000000</td>\n",
       "      <td>1.5</td>\n",
       "      <td>313000.0</td>\n",
       "      <td>Number of bathrooms: 1.5; Number of bedrooms: 3</td>\n",
       "      <td>0</td>\n",
       "      <td>0</td>\n",
       "      <td>1955</td>\n",
       "      <td>NaN</td>\n",
       "    </tr>\n",
       "    <tr>\n",
       "      <th>1</th>\n",
       "      <td>709 W Blaine St, Seattle, WA 98119, USA</td>\n",
       "      <td>{'sqft_living/sqft_lot': 'sqft_living/sqft_lot=3650\\ 9050', 'sqft_basement': 280, 'sqft_above': 3370}</td>\n",
       "      <td>5</td>\n",
       "      <td>20140502T000000</td>\n",
       "      <td>2.0</td>\n",
       "      <td>2384000.0</td>\n",
       "      <td>Number of bathrooms: 2.5; Number of bedrooms: 5</td>\n",
       "      <td>4</td>\n",
       "      <td>0</td>\n",
       "      <td>1921</td>\n",
       "      <td>NaN</td>\n",
       "    </tr>\n",
       "    <tr>\n",
       "      <th>2</th>\n",
       "      <td>26206-26214 143rd Ave SE, Kent, WA 98042, USA</td>\n",
       "      <td>{'sqft_living/sqft_lot': 'sqft_living/sqft_lot=1930\\ 11947', 'sqft_basement': 0, 'sqft_above': 1930}</td>\n",
       "      <td>4</td>\n",
       "      <td>20140502T000000</td>\n",
       "      <td>1.0</td>\n",
       "      <td>342000.0</td>\n",
       "      <td>Number of bathrooms: 2.0; Number of bedrooms: 3</td>\n",
       "      <td>0</td>\n",
       "      <td>0</td>\n",
       "      <td>1966</td>\n",
       "      <td>NaN</td>\n",
       "    </tr>\n",
       "    <tr>\n",
       "      <th>3</th>\n",
       "      <td>857 170th Pl NE, Bellevue, WA 98008, USA</td>\n",
       "      <td>{'sqft_living/sqft_lot': 'sqft_living/sqft_lot=2000\\ 8030', 'sqft_basement': 1000, 'sqft_above': 1000}</td>\n",
       "      <td>4</td>\n",
       "      <td>20140502T000000</td>\n",
       "      <td>1.0</td>\n",
       "      <td>420000.0</td>\n",
       "      <td>Number of bathrooms: 2.25; Number of bedrooms: 3</td>\n",
       "      <td>0</td>\n",
       "      <td>0</td>\n",
       "      <td>1963</td>\n",
       "      <td>NaN</td>\n",
       "    </tr>\n",
       "    <tr>\n",
       "      <th>4</th>\n",
       "      <td>9105 170th Ave NE, Redmond, WA 98052, USA</td>\n",
       "      <td>{'sqft_living/sqft_lot': 'sqft_living/sqft_lot=1940\\ 10500', 'sqft_basement': 800, 'sqft_above': 1140}</td>\n",
       "      <td>4</td>\n",
       "      <td>20140502T000000</td>\n",
       "      <td>1.0</td>\n",
       "      <td>550000.0</td>\n",
       "      <td>Number of bedrooms: 4; Number of bathrooms: 2.5</td>\n",
       "      <td>0</td>\n",
       "      <td>0</td>\n",
       "      <td>1976</td>\n",
       "      <td>NaN</td>\n",
       "    </tr>\n",
       "  </tbody>\n",
       "</table>\n",
       "</div>"
      ],
      "text/plain": [
       "                                          address  \\\n",
       "0  18810 Densmore Ave N, Shoreline, WA 98133, USA   \n",
       "1         709 W Blaine St, Seattle, WA 98119, USA   \n",
       "2   26206-26214 143rd Ave SE, Kent, WA 98042, USA   \n",
       "3        857 170th Pl NE, Bellevue, WA 98008, USA   \n",
       "4       9105 170th Ave NE, Redmond, WA 98052, USA   \n",
       "\n",
       "                                                                                                     area  \\\n",
       "0     {'sqft_living/sqft_lot': 'sqft_living/sqft_lot=1340\\ 7912', 'sqft_basement': 0, 'sqft_above': 1340}   \n",
       "1   {'sqft_living/sqft_lot': 'sqft_living/sqft_lot=3650\\ 9050', 'sqft_basement': 280, 'sqft_above': 3370}   \n",
       "2    {'sqft_living/sqft_lot': 'sqft_living/sqft_lot=1930\\ 11947', 'sqft_basement': 0, 'sqft_above': 1930}   \n",
       "3  {'sqft_living/sqft_lot': 'sqft_living/sqft_lot=2000\\ 8030', 'sqft_basement': 1000, 'sqft_above': 1000}   \n",
       "4  {'sqft_living/sqft_lot': 'sqft_living/sqft_lot=1940\\ 10500', 'sqft_basement': 800, 'sqft_above': 1140}   \n",
       "\n",
       "   condition             date  floors      price  \\\n",
       "0          3  20140502T000000     1.5   313000.0   \n",
       "1          5  20140502T000000     2.0  2384000.0   \n",
       "2          4  20140502T000000     1.0   342000.0   \n",
       "3          4  20140502T000000     1.0   420000.0   \n",
       "4          4  20140502T000000     1.0   550000.0   \n",
       "\n",
       "                                              rooms  view  waterfront  \\\n",
       "0   Number of bathrooms: 1.5; Number of bedrooms: 3     0           0   \n",
       "1   Number of bathrooms: 2.5; Number of bedrooms: 5     4           0   \n",
       "2   Number of bathrooms: 2.0; Number of bedrooms: 3     0           0   \n",
       "3  Number of bathrooms: 2.25; Number of bedrooms: 3     0           0   \n",
       "4   Number of bedrooms: 4; Number of bathrooms: 2.5     0           0   \n",
       "\n",
       "   yr_built  yr_renovated  \n",
       "0      1955           NaN  \n",
       "1      1921           NaN  \n",
       "2      1966           NaN  \n",
       "3      1963           NaN  \n",
       "4      1976           NaN  "
      ]
     },
     "execution_count": 4,
     "metadata": {},
     "output_type": "execute_result"
    }
   ],
   "source": [
    "pd.set_option('display.max_colwidth', 200)  # to adjust the column width of dataframe so all information can be displayed\n",
    "print (len(df))\n",
    "df.head()"
   ]
  },
  {
   "cell_type": "markdown",
   "metadata": {},
   "source": [
    "Because the value of 'area' is a dictionary where 'sqft_basement', 'sqft_living/sqft_lot'and 'sqft_above' are three keys, the way to extract the value of 'sqft_basement' and 'sqft_above' is straightforward: simply use the dictionary look up method (dic[key]) to retrieve the value of 'sqft_above' and 'sqft_basement'. As for 'sqft_living' and 'sqft_lot', since they are under one key lable, regression expression are needed to find the two digital number standing for each variable, then assign them to 'sqft_living' and 'sqft_lot' respectively.\n",
    "\n",
    "\n",
    "To execute the above process for each row, we use the apply function along with lambda.\n",
    "By assigning the retrieved value to a new column, we can build new columns based on  information from the exsited column"
   ]
  },
  {
   "cell_type": "code",
   "execution_count": 5,
   "metadata": {
    "collapsed": true
   },
   "outputs": [],
   "source": [
    "df['sqft_above'] = df['area'].apply(lambda x : x['sqft_above'])  # extract sqft_above from area\n",
    "df['sqft_basement'] = df['area'].apply(lambda x : x['sqft_basement'] ) # extract sqft_basement from area"
   ]
  },
  {
   "cell_type": "code",
   "execution_count": 6,
   "metadata": {
    "collapsed": true
   },
   "outputs": [],
   "source": [
    "# extract sqft_living from area\n",
    "df['sqft_living'] = df['area'].apply(lambda x: re.findall(r\"\\d+\",x['sqft_living/sqft_lot'])[0])\n",
    "# extract sqft_lot from area\n",
    "df['sqft_lot'] = df['area'].apply(lambda x: re.findall(r\"\\d+\", x['sqft_living/sqft_lot'])[1])"
   ]
  },
  {
   "cell_type": "markdown",
   "metadata": {},
   "source": [
    "The number of bathrooms and bedrooms are stored in the column of 'rooms' preceded by the strings of 'Number of bathrooms:' and 'Number of bedrooms'. To extract their values, we use re package to return the value matching the regex \"Number of bathrooms: (\\d+\\.?\\d\\*)\" and \"Number of bedrooms: (\\d+\\.?\\d\\*)\". Again we use the apply method and lambda to excute the operation to each row of variable 'rooms'."
   ]
  },
  {
   "cell_type": "code",
   "execution_count": 7,
   "metadata": {
    "collapsed": true
   },
   "outputs": [],
   "source": [
    "# extract bathrooms from rooms\n",
    "df['bathrooms'] = df['rooms'].apply( lambda x: re.findall(r\"Number of bathrooms: (\\d+\\.?\\d*)\", x)[0])\n",
    "# extract bedrooms from rooms\n",
    "df['bedrooms'] = df['rooms'].apply( lambda x: re.findall(r\"Number of bedrooms: (\\d+\\.?\\d*)\", x)[0] )"
   ]
  },
  {
   "cell_type": "markdown",
   "metadata": {},
   "source": [
    "Because 'street',''city', 'statezip', 'country' are stored in sequence under the variable of address seperated by comma. To extract them, we can use the split method to put the four elements into a list and then use index to retrieve each value and assign it to corresponding columns. "
   ]
  },
  {
   "cell_type": "code",
   "execution_count": 8,
   "metadata": {
    "collapsed": true
   },
   "outputs": [],
   "source": [
    "df['street'] = df['address'].apply( lambda x: [a.strip() for a in x.split(',')][0]) # extract street from address\n",
    "df['city'] = df['address'].apply( lambda x: [a.strip() for a in x.split(',')][1] ) # extract city from address\n",
    "df['statezip'] = df['address'].apply( lambda x: [a.strip() for a in x.split(',')][2] ) # extract statezip from address\n",
    "df['country'] = df['address'].apply( lambda x: [a.strip() for a in x.split(',')][3] ) # extract country from address"
   ]
  },
  {
   "cell_type": "markdown",
   "metadata": {},
   "source": [
    "Now that we have got all the columns containing single data attribute that we want, we can drop the multi-variable columns "
   ]
  },
  {
   "cell_type": "code",
   "execution_count": 9,
   "metadata": {
    "collapsed": true
   },
   "outputs": [],
   "source": [
    "df = df.drop(['address', 'area', 'rooms'], axis = 1)"
   ]
  },
  {
   "cell_type": "code",
   "execution_count": 10,
   "metadata": {
    "collapsed": false,
    "scrolled": false
   },
   "outputs": [
    {
     "data": {
      "text/html": [
       "<div>\n",
       "<table border=\"1\" class=\"dataframe\">\n",
       "  <thead>\n",
       "    <tr style=\"text-align: right;\">\n",
       "      <th></th>\n",
       "      <th>condition</th>\n",
       "      <th>date</th>\n",
       "      <th>floors</th>\n",
       "      <th>price</th>\n",
       "      <th>view</th>\n",
       "      <th>waterfront</th>\n",
       "      <th>yr_built</th>\n",
       "      <th>yr_renovated</th>\n",
       "      <th>sqft_above</th>\n",
       "      <th>sqft_basement</th>\n",
       "      <th>sqft_living</th>\n",
       "      <th>sqft_lot</th>\n",
       "      <th>bathrooms</th>\n",
       "      <th>bedrooms</th>\n",
       "      <th>street</th>\n",
       "      <th>city</th>\n",
       "      <th>statezip</th>\n",
       "      <th>country</th>\n",
       "    </tr>\n",
       "  </thead>\n",
       "  <tbody>\n",
       "    <tr>\n",
       "      <th>0</th>\n",
       "      <td>3</td>\n",
       "      <td>20140502T000000</td>\n",
       "      <td>1.5</td>\n",
       "      <td>313000.0</td>\n",
       "      <td>0</td>\n",
       "      <td>0</td>\n",
       "      <td>1955</td>\n",
       "      <td>NaN</td>\n",
       "      <td>1340</td>\n",
       "      <td>0</td>\n",
       "      <td>1340</td>\n",
       "      <td>7912</td>\n",
       "      <td>1.5</td>\n",
       "      <td>3</td>\n",
       "      <td>18810 Densmore Ave N</td>\n",
       "      <td>Shoreline</td>\n",
       "      <td>WA 98133</td>\n",
       "      <td>USA</td>\n",
       "    </tr>\n",
       "    <tr>\n",
       "      <th>1</th>\n",
       "      <td>5</td>\n",
       "      <td>20140502T000000</td>\n",
       "      <td>2.0</td>\n",
       "      <td>2384000.0</td>\n",
       "      <td>4</td>\n",
       "      <td>0</td>\n",
       "      <td>1921</td>\n",
       "      <td>NaN</td>\n",
       "      <td>3370</td>\n",
       "      <td>280</td>\n",
       "      <td>3650</td>\n",
       "      <td>9050</td>\n",
       "      <td>2.5</td>\n",
       "      <td>5</td>\n",
       "      <td>709 W Blaine St</td>\n",
       "      <td>Seattle</td>\n",
       "      <td>WA 98119</td>\n",
       "      <td>USA</td>\n",
       "    </tr>\n",
       "    <tr>\n",
       "      <th>2</th>\n",
       "      <td>4</td>\n",
       "      <td>20140502T000000</td>\n",
       "      <td>1.0</td>\n",
       "      <td>342000.0</td>\n",
       "      <td>0</td>\n",
       "      <td>0</td>\n",
       "      <td>1966</td>\n",
       "      <td>NaN</td>\n",
       "      <td>1930</td>\n",
       "      <td>0</td>\n",
       "      <td>1930</td>\n",
       "      <td>11947</td>\n",
       "      <td>2.0</td>\n",
       "      <td>3</td>\n",
       "      <td>26206-26214 143rd Ave SE</td>\n",
       "      <td>Kent</td>\n",
       "      <td>WA 98042</td>\n",
       "      <td>USA</td>\n",
       "    </tr>\n",
       "    <tr>\n",
       "      <th>3</th>\n",
       "      <td>4</td>\n",
       "      <td>20140502T000000</td>\n",
       "      <td>1.0</td>\n",
       "      <td>420000.0</td>\n",
       "      <td>0</td>\n",
       "      <td>0</td>\n",
       "      <td>1963</td>\n",
       "      <td>NaN</td>\n",
       "      <td>1000</td>\n",
       "      <td>1000</td>\n",
       "      <td>2000</td>\n",
       "      <td>8030</td>\n",
       "      <td>2.25</td>\n",
       "      <td>3</td>\n",
       "      <td>857 170th Pl NE</td>\n",
       "      <td>Bellevue</td>\n",
       "      <td>WA 98008</td>\n",
       "      <td>USA</td>\n",
       "    </tr>\n",
       "    <tr>\n",
       "      <th>4</th>\n",
       "      <td>4</td>\n",
       "      <td>20140502T000000</td>\n",
       "      <td>1.0</td>\n",
       "      <td>550000.0</td>\n",
       "      <td>0</td>\n",
       "      <td>0</td>\n",
       "      <td>1976</td>\n",
       "      <td>NaN</td>\n",
       "      <td>1140</td>\n",
       "      <td>800</td>\n",
       "      <td>1940</td>\n",
       "      <td>10500</td>\n",
       "      <td>2.5</td>\n",
       "      <td>4</td>\n",
       "      <td>9105 170th Ave NE</td>\n",
       "      <td>Redmond</td>\n",
       "      <td>WA 98052</td>\n",
       "      <td>USA</td>\n",
       "    </tr>\n",
       "  </tbody>\n",
       "</table>\n",
       "</div>"
      ],
      "text/plain": [
       "   condition             date  floors      price  view  waterfront  yr_built  \\\n",
       "0          3  20140502T000000     1.5   313000.0     0           0      1955   \n",
       "1          5  20140502T000000     2.0  2384000.0     4           0      1921   \n",
       "2          4  20140502T000000     1.0   342000.0     0           0      1966   \n",
       "3          4  20140502T000000     1.0   420000.0     0           0      1963   \n",
       "4          4  20140502T000000     1.0   550000.0     0           0      1976   \n",
       "\n",
       "   yr_renovated  sqft_above  sqft_basement sqft_living sqft_lot bathrooms  \\\n",
       "0           NaN        1340              0        1340     7912       1.5   \n",
       "1           NaN        3370            280        3650     9050       2.5   \n",
       "2           NaN        1930              0        1930    11947       2.0   \n",
       "3           NaN        1000           1000        2000     8030      2.25   \n",
       "4           NaN        1140            800        1940    10500       2.5   \n",
       "\n",
       "  bedrooms                    street       city  statezip country  \n",
       "0        3      18810 Densmore Ave N  Shoreline  WA 98133     USA  \n",
       "1        5           709 W Blaine St    Seattle  WA 98119     USA  \n",
       "2        3  26206-26214 143rd Ave SE       Kent  WA 98042     USA  \n",
       "3        3           857 170th Pl NE   Bellevue  WA 98008     USA  \n",
       "4        4         9105 170th Ave NE    Redmond  WA 98052     USA  "
      ]
     },
     "execution_count": 10,
     "metadata": {},
     "output_type": "execute_result"
    }
   ],
   "source": [
    "df.head()"
   ]
  },
  {
   "cell_type": "markdown",
   "metadata": {},
   "source": [
    "## 5 Convert data into correct type"
   ]
  },
  {
   "cell_type": "markdown",
   "metadata": {},
   "source": [
    "To achieve the good performance of data analysis in the future, it is important to ensure that each data is in correct type, otherwise we will face difficulty when trying to do certain analysis on it. For example, if a numeric variable is stored as object type meaning it is treated as categorical variable, we can not do arithmatical operations on it, thus make it impossible for us to calculate its sum, mean or build certain models. With the function of info(), we can check the data type of our dataframe, which is shown below.\n",
    "\n",
    "we notice that many variables are not in the correct format, mostly because the vaibles derived from complex variables of original json file are treated as string type. Based on the assumptions from assignment specification, we need to convert variables into the following type:\n",
    "\n",
    "* int: condition, view, waterfront, bedrooms\n",
    "* date: date, yr_built, yr_renovated\n",
    "* float: floors, bathrooms\n",
    "* string(object): street, city, statezip, country\n",
    "* either be float or int depending on the data's precision: price, sqft_above, sqft_basement, sqft_living, sqft_lot,"
   ]
  },
  {
   "cell_type": "code",
   "execution_count": 11,
   "metadata": {
    "collapsed": false
   },
   "outputs": [
    {
     "name": "stdout",
     "output_type": "stream",
     "text": [
      "<class 'pandas.core.frame.DataFrame'>\n",
      "RangeIndex: 4601 entries, 0 to 4600\n",
      "Data columns (total 18 columns):\n",
      "condition        4601 non-null int64\n",
      "date             4601 non-null object\n",
      "floors           4601 non-null float64\n",
      "price            4601 non-null float64\n",
      "view             4601 non-null int64\n",
      "waterfront       4601 non-null int64\n",
      "yr_built         4601 non-null int64\n",
      "yr_renovated     229 non-null float64\n",
      "sqft_above       4601 non-null int64\n",
      "sqft_basement    4601 non-null int64\n",
      "sqft_living      4601 non-null object\n",
      "sqft_lot         4601 non-null object\n",
      "bathrooms        4601 non-null object\n",
      "bedrooms         4601 non-null object\n",
      "street           4601 non-null object\n",
      "city             4601 non-null object\n",
      "statezip         4601 non-null object\n",
      "country          4601 non-null object\n",
      "dtypes: float64(3), int64(6), object(9)\n",
      "memory usage: 647.1+ KB\n"
     ]
    }
   ],
   "source": [
    "df.info()"
   ]
  },
  {
   "cell_type": "markdown",
   "metadata": {},
   "source": [
    "The convert_object function can convert variables which are made up of numbers but encoded as string to int or float type by specifing the keyword convert_numeric to True, in this way we change the data type of sqft_living, sqft_lot, bathrooms and bedrooms to int and float."
   ]
  },
  {
   "cell_type": "code",
   "execution_count": 12,
   "metadata": {
    "collapsed": false
   },
   "outputs": [
    {
     "name": "stderr",
     "output_type": "stream",
     "text": [
      "C:\\Users\\Zoe\\Anaconda3\\lib\\site-packages\\ipykernel\\__main__.py:1: FutureWarning: convert_objects is deprecated.  Use the data-type specific converters pd.to_datetime, pd.to_timedelta and pd.to_numeric.\n",
      "  if __name__ == '__main__':\n"
     ]
    },
    {
     "data": {
      "text/plain": [
       "condition          int64\n",
       "date              object\n",
       "floors           float64\n",
       "price            float64\n",
       "view               int64\n",
       "waterfront         int64\n",
       "yr_built           int64\n",
       "yr_renovated     float64\n",
       "sqft_above         int64\n",
       "sqft_basement      int64\n",
       "sqft_living        int64\n",
       "sqft_lot           int64\n",
       "bathrooms        float64\n",
       "bedrooms           int64\n",
       "street            object\n",
       "city              object\n",
       "statezip          object\n",
       "country           object\n",
       "dtype: object"
      ]
     },
     "execution_count": 12,
     "metadata": {},
     "output_type": "execute_result"
    }
   ],
   "source": [
    "df1 = df.convert_objects(convert_numeric = True) # convert string variable to int or float\n",
    "df1.dtypes"
   ]
  },
  {
   "cell_type": "code",
   "execution_count": 13,
   "metadata": {
    "collapsed": false,
    "scrolled": true
   },
   "outputs": [
    {
     "data": {
      "text/html": [
       "<div>\n",
       "<table border=\"1\" class=\"dataframe\">\n",
       "  <thead>\n",
       "    <tr style=\"text-align: right;\">\n",
       "      <th></th>\n",
       "      <th>condition</th>\n",
       "      <th>date</th>\n",
       "      <th>floors</th>\n",
       "      <th>price</th>\n",
       "      <th>view</th>\n",
       "      <th>waterfront</th>\n",
       "      <th>yr_built</th>\n",
       "      <th>yr_renovated</th>\n",
       "      <th>sqft_above</th>\n",
       "      <th>sqft_basement</th>\n",
       "      <th>sqft_living</th>\n",
       "      <th>sqft_lot</th>\n",
       "      <th>bathrooms</th>\n",
       "      <th>bedrooms</th>\n",
       "      <th>street</th>\n",
       "      <th>city</th>\n",
       "      <th>statezip</th>\n",
       "      <th>country</th>\n",
       "    </tr>\n",
       "  </thead>\n",
       "  <tbody>\n",
       "    <tr>\n",
       "      <th>0</th>\n",
       "      <td>3</td>\n",
       "      <td>20140502T000000</td>\n",
       "      <td>1.5</td>\n",
       "      <td>313000.0</td>\n",
       "      <td>0</td>\n",
       "      <td>0</td>\n",
       "      <td>1955</td>\n",
       "      <td>NaN</td>\n",
       "      <td>1340</td>\n",
       "      <td>0</td>\n",
       "      <td>1340</td>\n",
       "      <td>7912</td>\n",
       "      <td>1.50</td>\n",
       "      <td>3</td>\n",
       "      <td>18810 Densmore Ave N</td>\n",
       "      <td>Shoreline</td>\n",
       "      <td>WA 98133</td>\n",
       "      <td>USA</td>\n",
       "    </tr>\n",
       "    <tr>\n",
       "      <th>1</th>\n",
       "      <td>5</td>\n",
       "      <td>20140502T000000</td>\n",
       "      <td>2.0</td>\n",
       "      <td>2384000.0</td>\n",
       "      <td>4</td>\n",
       "      <td>0</td>\n",
       "      <td>1921</td>\n",
       "      <td>NaN</td>\n",
       "      <td>3370</td>\n",
       "      <td>280</td>\n",
       "      <td>3650</td>\n",
       "      <td>9050</td>\n",
       "      <td>2.50</td>\n",
       "      <td>5</td>\n",
       "      <td>709 W Blaine St</td>\n",
       "      <td>Seattle</td>\n",
       "      <td>WA 98119</td>\n",
       "      <td>USA</td>\n",
       "    </tr>\n",
       "    <tr>\n",
       "      <th>2</th>\n",
       "      <td>4</td>\n",
       "      <td>20140502T000000</td>\n",
       "      <td>1.0</td>\n",
       "      <td>342000.0</td>\n",
       "      <td>0</td>\n",
       "      <td>0</td>\n",
       "      <td>1966</td>\n",
       "      <td>NaN</td>\n",
       "      <td>1930</td>\n",
       "      <td>0</td>\n",
       "      <td>1930</td>\n",
       "      <td>11947</td>\n",
       "      <td>2.00</td>\n",
       "      <td>3</td>\n",
       "      <td>26206-26214 143rd Ave SE</td>\n",
       "      <td>Kent</td>\n",
       "      <td>WA 98042</td>\n",
       "      <td>USA</td>\n",
       "    </tr>\n",
       "    <tr>\n",
       "      <th>3</th>\n",
       "      <td>4</td>\n",
       "      <td>20140502T000000</td>\n",
       "      <td>1.0</td>\n",
       "      <td>420000.0</td>\n",
       "      <td>0</td>\n",
       "      <td>0</td>\n",
       "      <td>1963</td>\n",
       "      <td>NaN</td>\n",
       "      <td>1000</td>\n",
       "      <td>1000</td>\n",
       "      <td>2000</td>\n",
       "      <td>8030</td>\n",
       "      <td>2.25</td>\n",
       "      <td>3</td>\n",
       "      <td>857 170th Pl NE</td>\n",
       "      <td>Bellevue</td>\n",
       "      <td>WA 98008</td>\n",
       "      <td>USA</td>\n",
       "    </tr>\n",
       "    <tr>\n",
       "      <th>4</th>\n",
       "      <td>4</td>\n",
       "      <td>20140502T000000</td>\n",
       "      <td>1.0</td>\n",
       "      <td>550000.0</td>\n",
       "      <td>0</td>\n",
       "      <td>0</td>\n",
       "      <td>1976</td>\n",
       "      <td>NaN</td>\n",
       "      <td>1140</td>\n",
       "      <td>800</td>\n",
       "      <td>1940</td>\n",
       "      <td>10500</td>\n",
       "      <td>2.50</td>\n",
       "      <td>4</td>\n",
       "      <td>9105 170th Ave NE</td>\n",
       "      <td>Redmond</td>\n",
       "      <td>WA 98052</td>\n",
       "      <td>USA</td>\n",
       "    </tr>\n",
       "  </tbody>\n",
       "</table>\n",
       "</div>"
      ],
      "text/plain": [
       "   condition             date  floors      price  view  waterfront  yr_built  \\\n",
       "0          3  20140502T000000     1.5   313000.0     0           0      1955   \n",
       "1          5  20140502T000000     2.0  2384000.0     4           0      1921   \n",
       "2          4  20140502T000000     1.0   342000.0     0           0      1966   \n",
       "3          4  20140502T000000     1.0   420000.0     0           0      1963   \n",
       "4          4  20140502T000000     1.0   550000.0     0           0      1976   \n",
       "\n",
       "   yr_renovated  sqft_above  sqft_basement  sqft_living  sqft_lot  bathrooms  \\\n",
       "0           NaN        1340              0         1340      7912       1.50   \n",
       "1           NaN        3370            280         3650      9050       2.50   \n",
       "2           NaN        1930              0         1930     11947       2.00   \n",
       "3           NaN        1000           1000         2000      8030       2.25   \n",
       "4           NaN        1140            800         1940     10500       2.50   \n",
       "\n",
       "   bedrooms                    street       city  statezip country  \n",
       "0         3      18810 Densmore Ave N  Shoreline  WA 98133     USA  \n",
       "1         5           709 W Blaine St    Seattle  WA 98119     USA  \n",
       "2         3  26206-26214 143rd Ave SE       Kent  WA 98042     USA  \n",
       "3         3           857 170th Pl NE   Bellevue  WA 98008     USA  \n",
       "4         4         9105 170th Ave NE    Redmond  WA 98052     USA  "
      ]
     },
     "execution_count": 13,
     "metadata": {},
     "output_type": "execute_result"
    }
   ],
   "source": [
    "df1.head()"
   ]
  },
  {
   "cell_type": "markdown",
   "metadata": {},
   "source": [
    "However, the data type of date, yr_renovated and yr_built remain to be string, we need to use to_datetime function to convert them to date. One thing worth noticing is that yr_renovated contains many nan values which is essentially a float type, as float type can not be transformed to date type, we need to convert them to int type first and replace the nan value with -1, after that it is available for to_datetime function to convert it. Those values of -1 will be coerced to nan during the execution of to_datetime because we adjust the keyword 'errors' to 'coerce'. We also specify the format of the variable in order to get the correct date element from values."
   ]
  },
  {
   "cell_type": "code",
   "execution_count": 14,
   "metadata": {
    "collapsed": true
   },
   "outputs": [],
   "source": [
    "df1['yr_renovated'] = df1['yr_renovated'].fillna(value = -1) # replace the nan value of yr_renovated to -1"
   ]
  },
  {
   "cell_type": "code",
   "execution_count": 15,
   "metadata": {
    "collapsed": true
   },
   "outputs": [],
   "source": [
    "df1.loc[:,'yr_renovated'] = df1.loc[:,'yr_renovated'].astype(int)# convert yr_renovated to int"
   ]
  },
  {
   "cell_type": "code",
   "execution_count": 16,
   "metadata": {
    "collapsed": false
   },
   "outputs": [
    {
     "data": {
      "text/plain": [
       "condition                 int64\n",
       "date             datetime64[ns]\n",
       "floors                  float64\n",
       "price                   float64\n",
       "view                      int64\n",
       "waterfront                int64\n",
       "yr_built         datetime64[ns]\n",
       "yr_renovated     datetime64[ns]\n",
       "sqft_above                int64\n",
       "sqft_basement             int64\n",
       "sqft_living               int64\n",
       "sqft_lot                  int64\n",
       "bathrooms               float64\n",
       "bedrooms                  int64\n",
       "street                   object\n",
       "city                     object\n",
       "statezip                 object\n",
       "country                  object\n",
       "dtype: object"
      ]
     },
     "execution_count": 16,
     "metadata": {},
     "output_type": "execute_result"
    }
   ],
   "source": [
    "# convert variables regarding time to the date type\n",
    "df1['date']  = pd.to_datetime(df1['date'], format = '%Y%m%dT%H%M%S', errors = 'coerce')\n",
    "df1['yr_built'] = pd.to_datetime(df1['yr_built'], format = '%Y', errors = 'coerce')\n",
    "df1['yr_renovated'] = pd.to_datetime(df1['yr_renovated'], format = '%Y', errors = 'coerce')\n",
    "df1.dtypes"
   ]
  },
  {
   "cell_type": "markdown",
   "metadata": {},
   "source": [
    "We check the data type of table again, now we get all the variables in the wanted format."
   ]
  },
  {
   "cell_type": "code",
   "execution_count": 17,
   "metadata": {
    "collapsed": false
   },
   "outputs": [
    {
     "name": "stdout",
     "output_type": "stream",
     "text": [
      "<class 'pandas.core.frame.DataFrame'>\n",
      "RangeIndex: 4601 entries, 0 to 4600\n",
      "Data columns (total 18 columns):\n",
      "condition        4601 non-null int64\n",
      "date             4599 non-null datetime64[ns]\n",
      "floors           4601 non-null float64\n",
      "price            4601 non-null float64\n",
      "view             4601 non-null int64\n",
      "waterfront       4601 non-null int64\n",
      "yr_built         4601 non-null datetime64[ns]\n",
      "yr_renovated     229 non-null datetime64[ns]\n",
      "sqft_above       4601 non-null int64\n",
      "sqft_basement    4601 non-null int64\n",
      "sqft_living      4601 non-null int64\n",
      "sqft_lot         4601 non-null int64\n",
      "bathrooms        4601 non-null float64\n",
      "bedrooms         4601 non-null int64\n",
      "street           4601 non-null object\n",
      "city             4601 non-null object\n",
      "statezip         4601 non-null object\n",
      "country          4601 non-null object\n",
      "dtypes: datetime64[ns](3), float64(3), int64(8), object(4)\n",
      "memory usage: 647.1+ KB\n"
     ]
    }
   ],
   "source": [
    "df1.info()"
   ]
  },
  {
   "cell_type": "markdown",
   "metadata": {},
   "source": [
    "## 6  Auditing and cleansing data"
   ]
  },
  {
   "cell_type": "markdown",
   "metadata": {},
   "source": [
    "### 6.1 Syntactical Anomaly: Irregularity "
   ]
  },
  {
   "cell_type": "markdown",
   "metadata": {},
   "source": [
    "#### 6.1.1  abnormal values of date"
   ]
  },
  {
   "cell_type": "markdown",
   "metadata": {},
   "source": [
    "After we convert the data type of 'date' to date, we found that two values are missing, they must be invalid date values so the to_datetime function coerced them to nan. To find out their original value, we find their index in the df1 table and use that index to identify their values in df table."
   ]
  },
  {
   "cell_type": "code",
   "execution_count": 18,
   "metadata": {
    "collapsed": false
   },
   "outputs": [
    {
     "data": {
      "text/html": [
       "<div>\n",
       "<table border=\"1\" class=\"dataframe\">\n",
       "  <thead>\n",
       "    <tr style=\"text-align: right;\">\n",
       "      <th></th>\n",
       "      <th>condition</th>\n",
       "      <th>date</th>\n",
       "      <th>floors</th>\n",
       "      <th>price</th>\n",
       "      <th>view</th>\n",
       "      <th>waterfront</th>\n",
       "      <th>yr_built</th>\n",
       "      <th>yr_renovated</th>\n",
       "      <th>sqft_above</th>\n",
       "      <th>sqft_basement</th>\n",
       "      <th>sqft_living</th>\n",
       "      <th>sqft_lot</th>\n",
       "      <th>bathrooms</th>\n",
       "      <th>bedrooms</th>\n",
       "      <th>street</th>\n",
       "      <th>city</th>\n",
       "      <th>statezip</th>\n",
       "      <th>country</th>\n",
       "    </tr>\n",
       "  </thead>\n",
       "  <tbody>\n",
       "    <tr>\n",
       "      <th>4334</th>\n",
       "      <td>4</td>\n",
       "      <td>20140631T000000</td>\n",
       "      <td>1.0</td>\n",
       "      <td>248000.0</td>\n",
       "      <td>0</td>\n",
       "      <td>0</td>\n",
       "      <td>1954</td>\n",
       "      <td>NaN</td>\n",
       "      <td>950</td>\n",
       "      <td>0</td>\n",
       "      <td>950</td>\n",
       "      <td>9400</td>\n",
       "      <td>1.0</td>\n",
       "      <td>3</td>\n",
       "      <td>3920 153rd Ave SE</td>\n",
       "      <td>Bellevue</td>\n",
       "      <td>WA 98006</td>\n",
       "      <td>USA</td>\n",
       "    </tr>\n",
       "    <tr>\n",
       "      <th>4335</th>\n",
       "      <td>3</td>\n",
       "      <td>23052014T000000</td>\n",
       "      <td>2.0</td>\n",
       "      <td>505000.0</td>\n",
       "      <td>0</td>\n",
       "      <td>0</td>\n",
       "      <td>2002</td>\n",
       "      <td>NaN</td>\n",
       "      <td>1220</td>\n",
       "      <td>450</td>\n",
       "      <td>1670</td>\n",
       "      <td>1596</td>\n",
       "      <td>2.25</td>\n",
       "      <td>3</td>\n",
       "      <td>3019 30th Ave W</td>\n",
       "      <td>Seattle</td>\n",
       "      <td>WA 98199</td>\n",
       "      <td>USA</td>\n",
       "    </tr>\n",
       "  </tbody>\n",
       "</table>\n",
       "</div>"
      ],
      "text/plain": [
       "      condition             date  floors     price  view  waterfront  \\\n",
       "4334          4  20140631T000000     1.0  248000.0     0           0   \n",
       "4335          3  23052014T000000     2.0  505000.0     0           0   \n",
       "\n",
       "      yr_built  yr_renovated  sqft_above  sqft_basement sqft_living sqft_lot  \\\n",
       "4334      1954           NaN         950              0         950     9400   \n",
       "4335      2002           NaN        1220            450        1670     1596   \n",
       "\n",
       "     bathrooms bedrooms             street      city  statezip country  \n",
       "4334       1.0        3  3920 153rd Ave SE  Bellevue  WA 98006     USA  \n",
       "4335      2.25        3    3019 30th Ave W   Seattle  WA 98199     USA  "
      ]
     },
     "execution_count": 18,
     "metadata": {},
     "output_type": "execute_result"
    }
   ],
   "source": [
    "date_index = df1[pd.isnull(df1.date)].index  # find the index of nan value of date\n",
    "df.ix[date_index]  # check the original value in df table"
   ]
  },
  {
   "cell_type": "markdown",
   "metadata": {},
   "source": [
    "From the table above, it is easy to observe that the fisrt mistake is because the day is out of range of month, which can be corrected by changing the month to July or changing the day to 30, while the error of 4335 is possibly due to the reversal of the order of year, month and day, which can be corrected by placing these time value to right position."
   ]
  },
  {
   "cell_type": "code",
   "execution_count": 19,
   "metadata": {
    "collapsed": true
   },
   "outputs": [],
   "source": [
    "date_1 = pd.to_datetime('20140630T000000',format = '%Y%m%dT%H%M%S') # convert the value for replacement the to date type\n",
    "date_2 = pd.to_datetime('20140523T000000',format = '%Y%m%dT%H%M%S')"
   ]
  },
  {
   "cell_type": "code",
   "execution_count": 20,
   "metadata": {
    "collapsed": true
   },
   "outputs": [],
   "source": [
    "df1.ix[4334, 'date'] = date_1   # assign the right value to the incorrect date value\n",
    "df1.ix[4335, 'date'] = date_2"
   ]
  },
  {
   "cell_type": "markdown",
   "metadata": {},
   "source": [
    "#### 6.1.2 abnormal values of bathrooms"
   ]
  },
  {
   "cell_type": "markdown",
   "metadata": {},
   "source": [
    "Discrete numerical variables need to be treated with carefulness because they must be within certain range based on our assumption, in other words values out of the range are to be regarded as invalid values. In the following step, let's check the unique values of all discrete numerical variables and see if they satisfy the following assumptions:\n",
    "\n",
    "* values of bedrooms and waterfront should be integer\n",
    "* view and condition should only have 5 unique integer values, ranging from 0 to 4 and 1 to 5 respectively\n",
    "* values of bathrooms should be divisible by 0.25\n",
    "* values of floors should be divisible by 0.5"
   ]
  },
  {
   "cell_type": "code",
   "execution_count": 21,
   "metadata": {
    "collapsed": false
   },
   "outputs": [
    {
     "name": "stdout",
     "output_type": "stream",
     "text": [
      "bedrooms unique values\n",
      "[3 5 4 2 6 7 9 1 8 0]\n",
      "bathrooms unique values\n",
      "[ 1.5   2.5   2.    2.25  1.    1.75  2.75  3.    3.25  3.5   8.    4.25\n",
      "  4.    3.75  5.    4.5   5.75  1.25  6.5   4.75  0.75  5.25  5.5   6.25\n",
      "  0.    6.75  1.05  2.55  2.57  2.3   1.7 ]\n",
      "view unique values\n",
      "[0 4 1 2 3]\n",
      "floors unique values\n",
      "[ 1.5  2.   1.   2.5  3.   3.5]\n",
      "waterfront unique values\n",
      "[0 1]\n",
      "condition unique values\n",
      "[3 5 4 2 1]\n"
     ]
    }
   ],
   "source": [
    "print ('bedrooms unique values')\n",
    "print ( df1.bedrooms.unique())\n",
    "print ('bathrooms unique values')\n",
    "print (df1.bathrooms.unique())\n",
    "print ('view unique values')\n",
    "print (df1.view.unique())\n",
    "print ('floors unique values')\n",
    "print (df1.floors.unique())\n",
    "print ('waterfront unique values')\n",
    "print (df1.waterfront.unique())\n",
    "print ('condition unique values')\n",
    "print (df1.condition.unique())"
   ]
  },
  {
   "cell_type": "markdown",
   "metadata": {},
   "source": [
    "As the above outcome displays, only bathrooms contains invalid values which are 1.05, 2.55, 2.57, 2.3, 1.7, in the following step, we are going to identify rows containing invalid values and replace them with the possible valid values which is close to the estimation of linear regression."
   ]
  },
  {
   "cell_type": "code",
   "execution_count": 22,
   "metadata": {
    "collapsed": false
   },
   "outputs": [
    {
     "data": {
      "text/html": [
       "<div>\n",
       "<table border=\"1\" class=\"dataframe\">\n",
       "  <thead>\n",
       "    <tr style=\"text-align: right;\">\n",
       "      <th></th>\n",
       "      <th>condition</th>\n",
       "      <th>date</th>\n",
       "      <th>floors</th>\n",
       "      <th>price</th>\n",
       "      <th>view</th>\n",
       "      <th>waterfront</th>\n",
       "      <th>yr_built</th>\n",
       "      <th>yr_renovated</th>\n",
       "      <th>sqft_above</th>\n",
       "      <th>sqft_basement</th>\n",
       "      <th>sqft_living</th>\n",
       "      <th>sqft_lot</th>\n",
       "      <th>bathrooms</th>\n",
       "      <th>bedrooms</th>\n",
       "      <th>street</th>\n",
       "      <th>city</th>\n",
       "      <th>statezip</th>\n",
       "      <th>country</th>\n",
       "    </tr>\n",
       "  </thead>\n",
       "  <tbody>\n",
       "    <tr>\n",
       "      <th>4329</th>\n",
       "      <td>4</td>\n",
       "      <td>2014-05-06</td>\n",
       "      <td>1.0</td>\n",
       "      <td>518000.0</td>\n",
       "      <td>0</td>\n",
       "      <td>0</td>\n",
       "      <td>1956-01-01</td>\n",
       "      <td>NaT</td>\n",
       "      <td>1430</td>\n",
       "      <td>0</td>\n",
       "      <td>1430</td>\n",
       "      <td>8000</td>\n",
       "      <td>1.05</td>\n",
       "      <td>3</td>\n",
       "      <td>2527 154th Ave SE</td>\n",
       "      <td>Bellevue</td>\n",
       "      <td>WA 98007</td>\n",
       "      <td>USA</td>\n",
       "    </tr>\n",
       "    <tr>\n",
       "      <th>4330</th>\n",
       "      <td>4</td>\n",
       "      <td>2014-05-09</td>\n",
       "      <td>2.0</td>\n",
       "      <td>525000.0</td>\n",
       "      <td>0</td>\n",
       "      <td>0</td>\n",
       "      <td>1991-01-01</td>\n",
       "      <td>NaT</td>\n",
       "      <td>2030</td>\n",
       "      <td>0</td>\n",
       "      <td>2030</td>\n",
       "      <td>6970</td>\n",
       "      <td>2.55</td>\n",
       "      <td>3</td>\n",
       "      <td>3913 255th Pl SE</td>\n",
       "      <td>Issaquah</td>\n",
       "      <td>WA 98029</td>\n",
       "      <td>USA</td>\n",
       "    </tr>\n",
       "    <tr>\n",
       "      <th>4331</th>\n",
       "      <td>3</td>\n",
       "      <td>2014-06-24</td>\n",
       "      <td>2.0</td>\n",
       "      <td>236000.0</td>\n",
       "      <td>0</td>\n",
       "      <td>0</td>\n",
       "      <td>1997-01-01</td>\n",
       "      <td>NaT</td>\n",
       "      <td>2000</td>\n",
       "      <td>0</td>\n",
       "      <td>2000</td>\n",
       "      <td>5827</td>\n",
       "      <td>2.57</td>\n",
       "      <td>4</td>\n",
       "      <td>26546 236th Pl SE</td>\n",
       "      <td>Maple Valley</td>\n",
       "      <td>WA 98038</td>\n",
       "      <td>USA</td>\n",
       "    </tr>\n",
       "    <tr>\n",
       "      <th>4332</th>\n",
       "      <td>3</td>\n",
       "      <td>2014-06-10</td>\n",
       "      <td>2.0</td>\n",
       "      <td>278500.0</td>\n",
       "      <td>0</td>\n",
       "      <td>0</td>\n",
       "      <td>1990-01-01</td>\n",
       "      <td>NaT</td>\n",
       "      <td>1940</td>\n",
       "      <td>0</td>\n",
       "      <td>1940</td>\n",
       "      <td>6206</td>\n",
       "      <td>2.30</td>\n",
       "      <td>4</td>\n",
       "      <td>32900 19th Ave SW</td>\n",
       "      <td>Federal Way</td>\n",
       "      <td>WA 98023</td>\n",
       "      <td>USA</td>\n",
       "    </tr>\n",
       "    <tr>\n",
       "      <th>4333</th>\n",
       "      <td>4</td>\n",
       "      <td>2014-06-23</td>\n",
       "      <td>1.0</td>\n",
       "      <td>205425.0</td>\n",
       "      <td>0</td>\n",
       "      <td>0</td>\n",
       "      <td>1945-01-01</td>\n",
       "      <td>NaT</td>\n",
       "      <td>880</td>\n",
       "      <td>0</td>\n",
       "      <td>880</td>\n",
       "      <td>6780</td>\n",
       "      <td>1.70</td>\n",
       "      <td>2</td>\n",
       "      <td>11440 69th Pl S</td>\n",
       "      <td>Seattle</td>\n",
       "      <td>WA 98178</td>\n",
       "      <td>USA</td>\n",
       "    </tr>\n",
       "  </tbody>\n",
       "</table>\n",
       "</div>"
      ],
      "text/plain": [
       "      condition       date  floors     price  view  waterfront   yr_built  \\\n",
       "4329          4 2014-05-06     1.0  518000.0     0           0 1956-01-01   \n",
       "4330          4 2014-05-09     2.0  525000.0     0           0 1991-01-01   \n",
       "4331          3 2014-06-24     2.0  236000.0     0           0 1997-01-01   \n",
       "4332          3 2014-06-10     2.0  278500.0     0           0 1990-01-01   \n",
       "4333          4 2014-06-23     1.0  205425.0     0           0 1945-01-01   \n",
       "\n",
       "     yr_renovated  sqft_above  sqft_basement  sqft_living  sqft_lot  \\\n",
       "4329          NaT        1430              0         1430      8000   \n",
       "4330          NaT        2030              0         2030      6970   \n",
       "4331          NaT        2000              0         2000      5827   \n",
       "4332          NaT        1940              0         1940      6206   \n",
       "4333          NaT         880              0          880      6780   \n",
       "\n",
       "      bathrooms  bedrooms             street          city  statezip country  \n",
       "4329       1.05         3  2527 154th Ave SE      Bellevue  WA 98007     USA  \n",
       "4330       2.55         3   3913 255th Pl SE      Issaquah  WA 98029     USA  \n",
       "4331       2.57         4  26546 236th Pl SE  Maple Valley  WA 98038     USA  \n",
       "4332       2.30         4  32900 19th Ave SW   Federal Way  WA 98023     USA  \n",
       "4333       1.70         2    11440 69th Pl S       Seattle  WA 98178     USA  "
      ]
     },
     "execution_count": 22,
     "metadata": {},
     "output_type": "execute_result"
    }
   ],
   "source": [
    "find_bath = df1['bathrooms']*100%25  # get the remainder of bathrooms times 100 divided by 25\n",
    "find_index = find_bath[find_bath != 0].index # find the row index of bathrooms whose remainder is not zero\n",
    "df1.ix[find_index] # check the rows which can't be divisible by 0.25"
   ]
  },
  {
   "cell_type": "markdown",
   "metadata": {},
   "source": [
    "Before we impute the values for the incorrect bathrooms, let's select varibles that is closely related to bathrooms so that can be used as independent variable in the regression model. By calculating the correlation matrix below, we find that the coeffient of sqft_living and bedrooms are relatively high (0.76 and 0.54 respectively), indicating that they are good candidates of predictor for bathrooms."
   ]
  },
  {
   "cell_type": "code",
   "execution_count": 23,
   "metadata": {
    "collapsed": false
   },
   "outputs": [
    {
     "data": {
      "text/plain": [
       "condition       -0.120111\n",
       "floors           0.486510\n",
       "price            0.317932\n",
       "view             0.211948\n",
       "waterfront       0.076227\n",
       "sqft_above       0.689906\n",
       "sqft_basement    0.298007\n",
       "sqft_living      0.760980\n",
       "sqft_lot         0.107843\n",
       "bathrooms        1.000000\n",
       "bedrooms         0.545834\n",
       "Name: bathrooms, dtype: float64"
      ]
     },
     "execution_count": 23,
     "metadata": {},
     "output_type": "execute_result"
    }
   ],
   "source": [
    "df1.corr().ix['bathrooms'] # calculate the coefficient of correlation of bathrooms and other numerical variables"
   ]
  },
  {
   "cell_type": "markdown",
   "metadata": {},
   "source": [
    "We include sqft_living and bedrooms in the regression model to predict the target variable bathrooms, the R-squared value indicates that the model can explain 59% variability of the model, which is fairly effective."
   ]
  },
  {
   "cell_type": "code",
   "execution_count": 24,
   "metadata": {
    "collapsed": true
   },
   "outputs": [],
   "source": [
    "lm = LinearRegression()\n",
    "X = df1.ix[:,['sqft_living','bedrooms']]  # take 'sqft_living' and 'bedrooms' as predictor in the model"
   ]
  },
  {
   "cell_type": "code",
   "execution_count": 25,
   "metadata": {
    "collapsed": false
   },
   "outputs": [
    {
     "name": "stdout",
     "output_type": "stream",
     "text": [
      "r-squared for this model =  0.592535493667\n"
     ]
    }
   ],
   "source": [
    "lm.fit(X, df1.bathrooms)\n",
    "print ('r-squared for this model = ', lm.score(X, df1.bathrooms)) # generate the r-squared for the model"
   ]
  },
  {
   "cell_type": "markdown",
   "metadata": {},
   "source": [
    "The linear regression model predictes the required bathrooms values as follows, however they can not be directly used to replace the incorrect values, because they are not divisible by 0.25 either, but they can be regarded as an important reference to real value. Our strategy here is to find a value which is nearest to the predicted value and divisible by 0.25, use that to replace the wrong values."
   ]
  },
  {
   "cell_type": "code",
   "execution_count": 26,
   "metadata": {
    "collapsed": false
   },
   "outputs": [
    {
     "data": {
      "text/plain": [
       "array([ 1.72118518,  2.05088748,  2.15880705,  2.12583682,  1.29455339])"
      ]
     },
     "execution_count": 26,
     "metadata": {},
     "output_type": "execute_result"
    }
   ],
   "source": [
    "lm.predict(X)[[4329,4330,4331,4332,4333]]  # predict the values of four invalid bathrooms"
   ]
  },
  {
   "cell_type": "code",
   "execution_count": 27,
   "metadata": {
    "collapsed": false
   },
   "outputs": [
    {
     "data": {
      "text/html": [
       "<div>\n",
       "<table border=\"1\" class=\"dataframe\">\n",
       "  <thead>\n",
       "    <tr style=\"text-align: right;\">\n",
       "      <th></th>\n",
       "      <th>condition</th>\n",
       "      <th>date</th>\n",
       "      <th>floors</th>\n",
       "      <th>price</th>\n",
       "      <th>view</th>\n",
       "      <th>waterfront</th>\n",
       "      <th>yr_built</th>\n",
       "      <th>yr_renovated</th>\n",
       "      <th>sqft_above</th>\n",
       "      <th>sqft_basement</th>\n",
       "      <th>sqft_living</th>\n",
       "      <th>sqft_lot</th>\n",
       "      <th>bathrooms</th>\n",
       "      <th>bedrooms</th>\n",
       "      <th>street</th>\n",
       "      <th>city</th>\n",
       "      <th>statezip</th>\n",
       "      <th>country</th>\n",
       "    </tr>\n",
       "  </thead>\n",
       "  <tbody>\n",
       "    <tr>\n",
       "      <th>4329</th>\n",
       "      <td>4</td>\n",
       "      <td>2014-05-06</td>\n",
       "      <td>1.0</td>\n",
       "      <td>518000.0</td>\n",
       "      <td>0</td>\n",
       "      <td>0</td>\n",
       "      <td>1956-01-01</td>\n",
       "      <td>NaT</td>\n",
       "      <td>1430</td>\n",
       "      <td>0</td>\n",
       "      <td>1430</td>\n",
       "      <td>8000</td>\n",
       "      <td>1.75</td>\n",
       "      <td>3</td>\n",
       "      <td>2527 154th Ave SE</td>\n",
       "      <td>Bellevue</td>\n",
       "      <td>WA 98007</td>\n",
       "      <td>USA</td>\n",
       "    </tr>\n",
       "    <tr>\n",
       "      <th>4330</th>\n",
       "      <td>4</td>\n",
       "      <td>2014-05-09</td>\n",
       "      <td>2.0</td>\n",
       "      <td>525000.0</td>\n",
       "      <td>0</td>\n",
       "      <td>0</td>\n",
       "      <td>1991-01-01</td>\n",
       "      <td>NaT</td>\n",
       "      <td>2030</td>\n",
       "      <td>0</td>\n",
       "      <td>2030</td>\n",
       "      <td>6970</td>\n",
       "      <td>2.25</td>\n",
       "      <td>3</td>\n",
       "      <td>3913 255th Pl SE</td>\n",
       "      <td>Issaquah</td>\n",
       "      <td>WA 98029</td>\n",
       "      <td>USA</td>\n",
       "    </tr>\n",
       "    <tr>\n",
       "      <th>4331</th>\n",
       "      <td>3</td>\n",
       "      <td>2014-06-24</td>\n",
       "      <td>2.0</td>\n",
       "      <td>236000.0</td>\n",
       "      <td>0</td>\n",
       "      <td>0</td>\n",
       "      <td>1997-01-01</td>\n",
       "      <td>NaT</td>\n",
       "      <td>2000</td>\n",
       "      <td>0</td>\n",
       "      <td>2000</td>\n",
       "      <td>5827</td>\n",
       "      <td>2.25</td>\n",
       "      <td>4</td>\n",
       "      <td>26546 236th Pl SE</td>\n",
       "      <td>Maple Valley</td>\n",
       "      <td>WA 98038</td>\n",
       "      <td>USA</td>\n",
       "    </tr>\n",
       "    <tr>\n",
       "      <th>4332</th>\n",
       "      <td>3</td>\n",
       "      <td>2014-06-10</td>\n",
       "      <td>2.0</td>\n",
       "      <td>278500.0</td>\n",
       "      <td>0</td>\n",
       "      <td>0</td>\n",
       "      <td>1990-01-01</td>\n",
       "      <td>NaT</td>\n",
       "      <td>1940</td>\n",
       "      <td>0</td>\n",
       "      <td>1940</td>\n",
       "      <td>6206</td>\n",
       "      <td>2.00</td>\n",
       "      <td>4</td>\n",
       "      <td>32900 19th Ave SW</td>\n",
       "      <td>Federal Way</td>\n",
       "      <td>WA 98023</td>\n",
       "      <td>USA</td>\n",
       "    </tr>\n",
       "    <tr>\n",
       "      <th>4333</th>\n",
       "      <td>4</td>\n",
       "      <td>2014-06-23</td>\n",
       "      <td>1.0</td>\n",
       "      <td>205425.0</td>\n",
       "      <td>0</td>\n",
       "      <td>0</td>\n",
       "      <td>1945-01-01</td>\n",
       "      <td>NaT</td>\n",
       "      <td>880</td>\n",
       "      <td>0</td>\n",
       "      <td>880</td>\n",
       "      <td>6780</td>\n",
       "      <td>1.50</td>\n",
       "      <td>2</td>\n",
       "      <td>11440 69th Pl S</td>\n",
       "      <td>Seattle</td>\n",
       "      <td>WA 98178</td>\n",
       "      <td>USA</td>\n",
       "    </tr>\n",
       "  </tbody>\n",
       "</table>\n",
       "</div>"
      ],
      "text/plain": [
       "      condition       date  floors     price  view  waterfront   yr_built  \\\n",
       "4329          4 2014-05-06     1.0  518000.0     0           0 1956-01-01   \n",
       "4330          4 2014-05-09     2.0  525000.0     0           0 1991-01-01   \n",
       "4331          3 2014-06-24     2.0  236000.0     0           0 1997-01-01   \n",
       "4332          3 2014-06-10     2.0  278500.0     0           0 1990-01-01   \n",
       "4333          4 2014-06-23     1.0  205425.0     0           0 1945-01-01   \n",
       "\n",
       "     yr_renovated  sqft_above  sqft_basement  sqft_living  sqft_lot  \\\n",
       "4329          NaT        1430              0         1430      8000   \n",
       "4330          NaT        2030              0         2030      6970   \n",
       "4331          NaT        2000              0         2000      5827   \n",
       "4332          NaT        1940              0         1940      6206   \n",
       "4333          NaT         880              0          880      6780   \n",
       "\n",
       "      bathrooms  bedrooms             street          city  statezip country  \n",
       "4329       1.75         3  2527 154th Ave SE      Bellevue  WA 98007     USA  \n",
       "4330       2.25         3   3913 255th Pl SE      Issaquah  WA 98029     USA  \n",
       "4331       2.25         4  26546 236th Pl SE  Maple Valley  WA 98038     USA  \n",
       "4332       2.00         4  32900 19th Ave SW   Federal Way  WA 98023     USA  \n",
       "4333       1.50         2    11440 69th Pl S       Seattle  WA 98178     USA  "
      ]
     },
     "execution_count": 27,
     "metadata": {},
     "output_type": "execute_result"
    }
   ],
   "source": [
    "df1.bathrooms.replace({1.05:1.75, 2.55: 2.25, 2.57:2.25, 2.30: 2.00, 1.70: 1.50}, inplace = True)\n",
    "df1.ix[find_index]  # check if they have been replaced"
   ]
  },
  {
   "cell_type": "markdown",
   "metadata": {},
   "source": [
    "#### 6.1.3 abnormal values of price"
   ]
  },
  {
   "cell_type": "markdown",
   "metadata": {},
   "source": [
    "In the statistics summary table, we find that the minimal value of price is zero, which is apparently unreasonable because this data is a property sales records, if a house is sold as zero price, it is not 'sold' but gave as a gift or inherited. These zero values are possibly missing values and should be treated as null rather than zero otherwise it will affect future analysis of data. For now, we will replace it with nan, and in later section, they will be imputed by linear regression model."
   ]
  },
  {
   "cell_type": "code",
   "execution_count": 28,
   "metadata": {
    "collapsed": false
   },
   "outputs": [
    {
     "data": {
      "text/plain": [
       "248"
      ]
     },
     "execution_count": 28,
     "metadata": {},
     "output_type": "execute_result"
    }
   ],
   "source": [
    "len(df1[df1.price == 0.0])"
   ]
  },
  {
   "cell_type": "code",
   "execution_count": 29,
   "metadata": {
    "collapsed": true
   },
   "outputs": [],
   "source": [
    "df1.price.replace(0.0, np.nan, inplace = True)"
   ]
  },
  {
   "cell_type": "markdown",
   "metadata": {},
   "source": [
    "### 6.2 Syntactical Anomaly: Lexical error"
   ]
  },
  {
   "cell_type": "markdown",
   "metadata": {},
   "source": [
    "Lexical errors mostly happen in variables represented by string values, as to our data, there are four string variables, which are street, city, statezip and country. As the country only has one value: USA, we only need to validate the other three variables. First, let's take a look at city. In the following step we print out all city values of our dataframe in alphabetical order, it turns out there are many spelling errors of city name, for example Seattle is mistakenly written as Seaattle, Seatle, SeaTac, in addition, some city names are repeatedly recorded because of the of mixed use of case. With the help of Wikipedia, we identify the wrong city names and replace them with correct ones."
   ]
  },
  {
   "cell_type": "code",
   "execution_count": 30,
   "metadata": {
    "collapsed": false
   },
   "outputs": [
    {
     "name": "stdout",
     "output_type": "stream",
     "text": [
      "Algona\n",
      "Auburn\n",
      "Auburnt\n",
      "Beaux Arts Village\n",
      "Belleview\n",
      "Bellevue\n",
      "Bellvue\n",
      "Black Diamond\n",
      "Bothell\n",
      "Burien\n",
      "Carnation\n",
      "Clyde Hill\n",
      "Coronation\n",
      "Covington\n",
      "Des Moines\n",
      "Duvall\n",
      "Enumclaw\n",
      "Fall City\n",
      "Federal Way\n",
      "Inglewood-Finn Hill\n",
      "Issaguah\n",
      "Issaquah\n",
      "Kenmore\n",
      "Kent\n",
      "Kirkland\n",
      "Kirklund\n",
      "Lake Forest Park\n",
      "Maple Valley\n",
      "Medina\n",
      "Mercer Island\n",
      "Milton\n",
      "Newcastle\n",
      "Normandy Park\n",
      "North Bend\n",
      "Pacific\n",
      "Preston\n",
      "Ravensdale\n",
      "Redmond\n",
      "Redmonde\n",
      "Redmund\n",
      "Renton\n",
      "Samamish\n",
      "Sammamish\n",
      "SeaTac\n",
      "Seaattle\n",
      "Seatle\n",
      "Seattle\n",
      "Shoreline\n",
      "Skykomish\n",
      "Snogualmie\n",
      "Snoqualmie\n",
      "Snoqualmie Pass\n",
      "Sureline\n",
      "Tukwila\n",
      "Vashon\n",
      "Woodenville\n",
      "Woodinville\n",
      "Yarrow Point\n",
      "auburn\n",
      "redmond\n",
      "sammamish\n",
      "seattle\n"
     ]
    }
   ],
   "source": [
    "for x in sorted(df1.city.unique()):   \n",
    "    print (x)"
   ]
  },
  {
   "cell_type": "code",
   "execution_count": 31,
   "metadata": {
    "collapsed": true
   },
   "outputs": [],
   "source": [
    "replace_dic = { \n",
    "    'Carnation':'Coronation',\n",
    "    'Belleview':'Bellevue',\n",
    "    'seattle':'Seattle',\n",
    "    'Woodenville':'Woodinville',\n",
    "    'Bellvue':'Bellevue',\n",
    "    'Snogualmie':'Snoqualmie', \n",
    "    'Redmonde':'Redmond',\n",
    "    'Samamish':'Sammamish', \n",
    "    'Redmund':'Redmond',\n",
    "    'Seaattle': 'Seattle',\n",
    "    'Seatle': 'Seattle', \n",
    "    'Issaguah':'Issaquah', \n",
    "    'redmond':'Redmond',\n",
    "    'Auburnt':'Auburn',\n",
    "    'Inglewood-Finn Hill':'Kirkland',\n",
    "    'auburn':'Auburn', \n",
    "    'Sureline': 'Shoreline',\n",
    "    'sammamish':'Sammamish',\n",
    "    'Kirklund': 'Kirkland'} \n",
    "df1.city.replace(replace_dic, inplace = True)"
   ]
  },
  {
   "cell_type": "markdown",
   "metadata": {},
   "source": [
    "With regard to statezip, we print out their conbination of city name to check if they are correct correspondent of city, by looking up city's statezip online, we find that these conbination are matched and should be seen as valid values."
   ]
  },
  {
   "cell_type": "code",
   "execution_count": 32,
   "metadata": {
    "collapsed": false,
    "scrolled": false
   },
   "outputs": [
    {
     "name": "stdout",
     "output_type": "stream",
     "text": [
      "WA 98001\n",
      "['Auburn' 'Algona' 'Federal Way']\n",
      "WA 98002\n",
      "['Auburn']\n",
      "WA 98003\n",
      "['Federal Way']\n",
      "WA 98004\n",
      "['Bellevue' 'Clyde Hill' 'Yarrow Point' 'Beaux Arts Village']\n",
      "WA 98005\n",
      "['Bellevue']\n",
      "WA 98006\n",
      "['Bellevue']\n",
      "WA 98007\n",
      "['Bellevue']\n",
      "WA 98008\n",
      "['Bellevue']\n",
      "WA 98010\n",
      "['Black Diamond']\n",
      "WA 98011\n",
      "['Bothell']\n",
      "WA 98014\n",
      "['Coronation']\n",
      "WA 98019\n",
      "['Duvall']\n",
      "WA 98022\n",
      "['Enumclaw']\n",
      "WA 98023\n",
      "['Federal Way']\n",
      "WA 98024\n",
      "['Fall City']\n",
      "WA 98027\n",
      "['Issaquah']\n",
      "WA 98028\n",
      "['Kenmore' 'Bothell']\n",
      "WA 98029\n",
      "['Issaquah']\n",
      "WA 98030\n",
      "['Kent']\n",
      "WA 98031\n",
      "['Kent']\n",
      "WA 98032\n",
      "['Kent']\n",
      "WA 98033\n",
      "['Kirkland']\n",
      "WA 98034\n",
      "['Kirkland']\n",
      "WA 98038\n",
      "['Maple Valley']\n",
      "WA 98039\n",
      "['Medina']\n",
      "WA 98040\n",
      "['Mercer Island']\n",
      "WA 98042\n",
      "['Kent' 'Covington']\n",
      "WA 98045\n",
      "['North Bend']\n",
      "WA 98047\n",
      "['Pacific']\n",
      "WA 98050\n",
      "['Preston']\n",
      "WA 98051\n",
      "['Ravensdale']\n",
      "WA 98052\n",
      "['Redmond']\n",
      "WA 98053\n",
      "['Redmond']\n",
      "WA 98055\n",
      "['Renton']\n",
      "WA 98056\n",
      "['Renton' 'Newcastle']\n",
      "WA 98057\n",
      "['Renton']\n",
      "WA 98058\n",
      "['Renton']\n",
      "WA 98059\n",
      "['Renton' 'Newcastle']\n",
      "WA 98065\n",
      "['Snoqualmie']\n",
      "WA 98068\n",
      "['Snoqualmie Pass']\n",
      "WA 98070\n",
      "['Vashon']\n",
      "WA 98072\n",
      "['Woodinville']\n",
      "WA 98074\n",
      "['Sammamish' 'Redmond']\n",
      "WA 98075\n",
      "['Sammamish' 'Issaquah']\n",
      "WA 98077\n",
      "['Woodinville']\n",
      "WA 98092\n",
      "['Auburn']\n",
      "WA 98102\n",
      "['Seattle']\n",
      "WA 98103\n",
      "['Seattle']\n",
      "WA 98105\n",
      "['Seattle']\n",
      "WA 98106\n",
      "['Seattle']\n",
      "WA 98107\n",
      "['Seattle']\n",
      "WA 98108\n",
      "['Seattle']\n",
      "WA 98109\n",
      "['Seattle']\n",
      "WA 98112\n",
      "['Seattle']\n",
      "WA 98115\n",
      "['Seattle']\n",
      "WA 98116\n",
      "['Seattle']\n",
      "WA 98117\n",
      "['Seattle']\n",
      "WA 98118\n",
      "['Seattle']\n",
      "WA 98119\n",
      "['Seattle']\n",
      "WA 98122\n",
      "['Seattle']\n",
      "WA 98125\n",
      "['Seattle']\n",
      "WA 98126\n",
      "['Seattle']\n",
      "WA 98133\n",
      "['Shoreline' 'Seattle']\n",
      "WA 98136\n",
      "['Seattle']\n",
      "WA 98144\n",
      "['Seattle']\n",
      "WA 98146\n",
      "['Seattle' 'Burien']\n",
      "WA 98148\n",
      "['Burien' 'Des Moines' 'Seattle']\n",
      "WA 98155\n",
      "['Lake Forest Park' 'Shoreline']\n",
      "WA 98166\n",
      "['Normandy Park' 'Burien']\n",
      "WA 98168\n",
      "['Burien' 'Seattle' 'Tukwila' 'SeaTac']\n",
      "WA 98177\n",
      "['Seattle' 'Shoreline']\n",
      "WA 98178\n",
      "['Seattle' 'Tukwila']\n",
      "WA 98188\n",
      "['SeaTac' 'Tukwila']\n",
      "WA 98198\n",
      "['Des Moines' 'SeaTac' 'Normandy Park']\n",
      "WA 98199\n",
      "['Seattle']\n",
      "WA 98288\n",
      "['Skykomish']\n",
      "WA 98354\n",
      "['Milton']\n"
     ]
    }
   ],
   "source": [
    "grouped= df1.groupby('statezip').city.unique()\n",
    "for k,v in grouped.items():\n",
    "    print(k)\n",
    "    print(v)"
   ]
  },
  {
   "cell_type": "markdown",
   "metadata": {},
   "source": [
    "### 6.3 Semantic Anomaly: contradiction among sqft_living, sqft_above and sqft_basement"
   ]
  },
  {
   "cell_type": "markdown",
   "metadata": {},
   "source": [
    "Semantic anomaly usually happens under three circumstances: 1) the integrity constraint is violated, 2) variables contradict with each other or 3) there are duplicated rows. To find the former two types of anomaly, we need to take care of the variables which have relationship with others. In this dataset, we should pay attention to the consistency among sqft_living, sqft_above and sqft_basement, as well as the consistency among date, yr_built and yr_renovated because these variables provide information for others. Based on the specification of assignment, we can propose two contraint rules:\n",
    "\n",
    "* sqft_living equal to the sum of sqft_above and sqft_basement\n",
    "* date should be after yr_renovated(when yr_renovated is not null), yr_renovated should be after yr_built"
   ]
  },
  {
   "cell_type": "markdown",
   "metadata": {},
   "source": [
    "First, let's check the inconsistency among sqft_living, sqft_above and sqft_basement. From the observation below, we can infer that the error of record 4338 is possibly caused by forgeting to take sqft_basement into account when calculating sqft_living so we can correct it by adding the sqft_basement to sqft_living. As for the mistake of record 4339, the value of sqft_living is larger than the sum of above and basement, it is safe to deduct that the sqft_basement value may be lost so we just fill in it with the difference between the other two variables."
   ]
  },
  {
   "cell_type": "code",
   "execution_count": 33,
   "metadata": {
    "collapsed": false
   },
   "outputs": [
    {
     "data": {
      "text/html": [
       "<div>\n",
       "<table border=\"1\" class=\"dataframe\">\n",
       "  <thead>\n",
       "    <tr style=\"text-align: right;\">\n",
       "      <th></th>\n",
       "      <th>condition</th>\n",
       "      <th>date</th>\n",
       "      <th>floors</th>\n",
       "      <th>price</th>\n",
       "      <th>view</th>\n",
       "      <th>waterfront</th>\n",
       "      <th>yr_built</th>\n",
       "      <th>yr_renovated</th>\n",
       "      <th>sqft_above</th>\n",
       "      <th>sqft_basement</th>\n",
       "      <th>sqft_living</th>\n",
       "      <th>sqft_lot</th>\n",
       "      <th>bathrooms</th>\n",
       "      <th>bedrooms</th>\n",
       "      <th>street</th>\n",
       "      <th>city</th>\n",
       "      <th>statezip</th>\n",
       "      <th>country</th>\n",
       "    </tr>\n",
       "  </thead>\n",
       "  <tbody>\n",
       "    <tr>\n",
       "      <th>4338</th>\n",
       "      <td>3</td>\n",
       "      <td>2014-07-10</td>\n",
       "      <td>2.0</td>\n",
       "      <td>670000.0</td>\n",
       "      <td>0</td>\n",
       "      <td>0</td>\n",
       "      <td>2003-01-01</td>\n",
       "      <td>NaT</td>\n",
       "      <td>1280</td>\n",
       "      <td>1420</td>\n",
       "      <td>1280</td>\n",
       "      <td>1438</td>\n",
       "      <td>2.5</td>\n",
       "      <td>3</td>\n",
       "      <td>746 Boylston Ave E</td>\n",
       "      <td>Seattle</td>\n",
       "      <td>WA 98102</td>\n",
       "      <td>USA</td>\n",
       "    </tr>\n",
       "    <tr>\n",
       "      <th>4339</th>\n",
       "      <td>4</td>\n",
       "      <td>2014-07-01</td>\n",
       "      <td>1.0</td>\n",
       "      <td>202000.0</td>\n",
       "      <td>0</td>\n",
       "      <td>0</td>\n",
       "      <td>1926-01-01</td>\n",
       "      <td>NaT</td>\n",
       "      <td>590</td>\n",
       "      <td>0</td>\n",
       "      <td>890</td>\n",
       "      <td>833</td>\n",
       "      <td>1.0</td>\n",
       "      <td>1</td>\n",
       "      <td>701-711 26th Ave</td>\n",
       "      <td>Seattle</td>\n",
       "      <td>WA 98122</td>\n",
       "      <td>USA</td>\n",
       "    </tr>\n",
       "  </tbody>\n",
       "</table>\n",
       "</div>"
      ],
      "text/plain": [
       "      condition       date  floors     price  view  waterfront   yr_built  \\\n",
       "4338          3 2014-07-10     2.0  670000.0     0           0 2003-01-01   \n",
       "4339          4 2014-07-01     1.0  202000.0     0           0 1926-01-01   \n",
       "\n",
       "     yr_renovated  sqft_above  sqft_basement  sqft_living  sqft_lot  \\\n",
       "4338          NaT        1280           1420         1280      1438   \n",
       "4339          NaT         590              0          890       833   \n",
       "\n",
       "      bathrooms  bedrooms              street     city  statezip country  \n",
       "4338        2.5         3  746 Boylston Ave E  Seattle  WA 98102     USA  \n",
       "4339        1.0         1    701-711 26th Ave  Seattle  WA 98122     USA  "
      ]
     },
     "execution_count": 33,
     "metadata": {},
     "output_type": "execute_result"
    }
   ],
   "source": [
    "incon_index = df1[df1['sqft_living'] != (df1['sqft_above'] + df1['sqft_basement'])].index # get the index of inconsistent record\n",
    "df1.ix[incon_index]"
   ]
  },
  {
   "cell_type": "code",
   "execution_count": 34,
   "metadata": {
    "collapsed": false
   },
   "outputs": [
    {
     "data": {
      "text/html": [
       "<div>\n",
       "<table border=\"1\" class=\"dataframe\">\n",
       "  <thead>\n",
       "    <tr style=\"text-align: right;\">\n",
       "      <th></th>\n",
       "      <th>condition</th>\n",
       "      <th>date</th>\n",
       "      <th>floors</th>\n",
       "      <th>price</th>\n",
       "      <th>view</th>\n",
       "      <th>waterfront</th>\n",
       "      <th>yr_built</th>\n",
       "      <th>yr_renovated</th>\n",
       "      <th>sqft_above</th>\n",
       "      <th>sqft_basement</th>\n",
       "      <th>sqft_living</th>\n",
       "      <th>sqft_lot</th>\n",
       "      <th>bathrooms</th>\n",
       "      <th>bedrooms</th>\n",
       "      <th>street</th>\n",
       "      <th>city</th>\n",
       "      <th>statezip</th>\n",
       "      <th>country</th>\n",
       "    </tr>\n",
       "  </thead>\n",
       "  <tbody>\n",
       "    <tr>\n",
       "      <th>4338</th>\n",
       "      <td>3</td>\n",
       "      <td>2014-07-10</td>\n",
       "      <td>2.0</td>\n",
       "      <td>670000.0</td>\n",
       "      <td>0</td>\n",
       "      <td>0</td>\n",
       "      <td>2003-01-01</td>\n",
       "      <td>NaT</td>\n",
       "      <td>1280</td>\n",
       "      <td>1420</td>\n",
       "      <td>2700</td>\n",
       "      <td>1438</td>\n",
       "      <td>2.5</td>\n",
       "      <td>3</td>\n",
       "      <td>746 Boylston Ave E</td>\n",
       "      <td>Seattle</td>\n",
       "      <td>WA 98102</td>\n",
       "      <td>USA</td>\n",
       "    </tr>\n",
       "    <tr>\n",
       "      <th>4339</th>\n",
       "      <td>4</td>\n",
       "      <td>2014-07-01</td>\n",
       "      <td>1.0</td>\n",
       "      <td>202000.0</td>\n",
       "      <td>0</td>\n",
       "      <td>0</td>\n",
       "      <td>1926-01-01</td>\n",
       "      <td>NaT</td>\n",
       "      <td>590</td>\n",
       "      <td>300</td>\n",
       "      <td>890</td>\n",
       "      <td>833</td>\n",
       "      <td>1.0</td>\n",
       "      <td>1</td>\n",
       "      <td>701-711 26th Ave</td>\n",
       "      <td>Seattle</td>\n",
       "      <td>WA 98122</td>\n",
       "      <td>USA</td>\n",
       "    </tr>\n",
       "  </tbody>\n",
       "</table>\n",
       "</div>"
      ],
      "text/plain": [
       "      condition       date  floors     price  view  waterfront   yr_built  \\\n",
       "4338          3 2014-07-10     2.0  670000.0     0           0 2003-01-01   \n",
       "4339          4 2014-07-01     1.0  202000.0     0           0 1926-01-01   \n",
       "\n",
       "     yr_renovated  sqft_above  sqft_basement  sqft_living  sqft_lot  \\\n",
       "4338          NaT        1280           1420         2700      1438   \n",
       "4339          NaT         590            300          890       833   \n",
       "\n",
       "      bathrooms  bedrooms              street     city  statezip country  \n",
       "4338        2.5         3  746 Boylston Ave E  Seattle  WA 98102     USA  \n",
       "4339        1.0         1    701-711 26th Ave  Seattle  WA 98122     USA  "
      ]
     },
     "execution_count": 34,
     "metadata": {},
     "output_type": "execute_result"
    }
   ],
   "source": [
    "df1.ix[4338,'sqft_living'] = 2700\n",
    "df1.ix[4339,'sqft_basement'] = 300\n",
    "df1.ix[incon_index]"
   ]
  },
  {
   "cell_type": "markdown",
   "metadata": {},
   "source": [
    "### 6.4 Semantic Anomaly: Invalid values of yr_built and yr_renovated"
   ]
  },
  {
   "cell_type": "markdown",
   "metadata": {},
   "source": [
    "Now let's look at variables regarding date to see if there is time inconsistency between them. First we write a function to compare the values of date, yr_built and yr_renavated of a single row. The function's basic idea is as follows: when these three variables are not null, the function will return true if yr_renovated is prior to date and yr_built is prior to yr_renovated, otherwise return false; when one variable is missing, if the other two still follow the sequence of time, the function will return true, otherwise return false. With the apply function, we can use this compare_date function to each row of dataframe and identify rows (i.e. 4340, 4341, 4342, 4345) violating time consistency: their yr_renovated is pror to yr_built."
   ]
  },
  {
   "cell_type": "code",
   "execution_count": 35,
   "metadata": {
    "collapsed": true
   },
   "outputs": [],
   "source": [
    "def compare_date( row ):\n",
    "    if (pd.notnull( row['yr_renovated'] )) & (pd.notnull( row['date'] ) ):\n",
    "        if (row['yr_built'] < row['yr_renovated']) & (row['yr_renovated'] < row['date']):\n",
    "            return True\n",
    "        return False\n",
    "    elif (row['yr_built'] <  row['date']) | (pd.isnull(row['yr_renovated']) & pd.isnull(row['date'])):\n",
    "        return True\n",
    "    return False"
   ]
  },
  {
   "cell_type": "code",
   "execution_count": 36,
   "metadata": {
    "collapsed": false
   },
   "outputs": [
    {
     "data": {
      "text/html": [
       "<div>\n",
       "<table border=\"1\" class=\"dataframe\">\n",
       "  <thead>\n",
       "    <tr style=\"text-align: right;\">\n",
       "      <th></th>\n",
       "      <th>condition</th>\n",
       "      <th>date</th>\n",
       "      <th>floors</th>\n",
       "      <th>price</th>\n",
       "      <th>view</th>\n",
       "      <th>waterfront</th>\n",
       "      <th>yr_built</th>\n",
       "      <th>yr_renovated</th>\n",
       "      <th>sqft_above</th>\n",
       "      <th>sqft_basement</th>\n",
       "      <th>sqft_living</th>\n",
       "      <th>sqft_lot</th>\n",
       "      <th>bathrooms</th>\n",
       "      <th>bedrooms</th>\n",
       "      <th>street</th>\n",
       "      <th>city</th>\n",
       "      <th>statezip</th>\n",
       "      <th>country</th>\n",
       "    </tr>\n",
       "  </thead>\n",
       "  <tbody>\n",
       "    <tr>\n",
       "      <th>4340</th>\n",
       "      <td>3</td>\n",
       "      <td>2014-05-02</td>\n",
       "      <td>1.0</td>\n",
       "      <td>440000.0</td>\n",
       "      <td>0</td>\n",
       "      <td>0</td>\n",
       "      <td>1966-01-01</td>\n",
       "      <td>1913-01-01</td>\n",
       "      <td>1080</td>\n",
       "      <td>1080</td>\n",
       "      <td>2160</td>\n",
       "      <td>8119</td>\n",
       "      <td>2.25</td>\n",
       "      <td>4</td>\n",
       "      <td>12211 SE 65th St</td>\n",
       "      <td>Bellevue</td>\n",
       "      <td>WA 98006</td>\n",
       "      <td>USA</td>\n",
       "    </tr>\n",
       "    <tr>\n",
       "      <th>4341</th>\n",
       "      <td>3</td>\n",
       "      <td>2014-05-26</td>\n",
       "      <td>2.0</td>\n",
       "      <td>690000.0</td>\n",
       "      <td>0</td>\n",
       "      <td>0</td>\n",
       "      <td>2004-01-01</td>\n",
       "      <td>2003-01-01</td>\n",
       "      <td>2700</td>\n",
       "      <td>0</td>\n",
       "      <td>2700</td>\n",
       "      <td>8810</td>\n",
       "      <td>2.50</td>\n",
       "      <td>4</td>\n",
       "      <td>11659 168th Ct NE</td>\n",
       "      <td>Redmond</td>\n",
       "      <td>WA 98052</td>\n",
       "      <td>USA</td>\n",
       "    </tr>\n",
       "    <tr>\n",
       "      <th>4342</th>\n",
       "      <td>3</td>\n",
       "      <td>2014-05-08</td>\n",
       "      <td>2.0</td>\n",
       "      <td>375000.0</td>\n",
       "      <td>0</td>\n",
       "      <td>0</td>\n",
       "      <td>2012-01-01</td>\n",
       "      <td>1912-01-01</td>\n",
       "      <td>3206</td>\n",
       "      <td>0</td>\n",
       "      <td>3206</td>\n",
       "      <td>5793</td>\n",
       "      <td>2.25</td>\n",
       "      <td>6</td>\n",
       "      <td>25921-25929 35th Pl S</td>\n",
       "      <td>Kent</td>\n",
       "      <td>WA 98032</td>\n",
       "      <td>USA</td>\n",
       "    </tr>\n",
       "    <tr>\n",
       "      <th>4345</th>\n",
       "      <td>3</td>\n",
       "      <td>2014-05-22</td>\n",
       "      <td>2.0</td>\n",
       "      <td>850000.0</td>\n",
       "      <td>4</td>\n",
       "      <td>0</td>\n",
       "      <td>2013-01-01</td>\n",
       "      <td>1923-01-01</td>\n",
       "      <td>3090</td>\n",
       "      <td>0</td>\n",
       "      <td>3090</td>\n",
       "      <td>6744</td>\n",
       "      <td>3.25</td>\n",
       "      <td>4</td>\n",
       "      <td>19117-19123 Richmond Beach Dr NW</td>\n",
       "      <td>Shoreline</td>\n",
       "      <td>WA 98177</td>\n",
       "      <td>USA</td>\n",
       "    </tr>\n",
       "  </tbody>\n",
       "</table>\n",
       "</div>"
      ],
      "text/plain": [
       "      condition       date  floors     price  view  waterfront   yr_built  \\\n",
       "4340          3 2014-05-02     1.0  440000.0     0           0 1966-01-01   \n",
       "4341          3 2014-05-26     2.0  690000.0     0           0 2004-01-01   \n",
       "4342          3 2014-05-08     2.0  375000.0     0           0 2012-01-01   \n",
       "4345          3 2014-05-22     2.0  850000.0     4           0 2013-01-01   \n",
       "\n",
       "     yr_renovated  sqft_above  sqft_basement  sqft_living  sqft_lot  \\\n",
       "4340   1913-01-01        1080           1080         2160      8119   \n",
       "4341   2003-01-01        2700              0         2700      8810   \n",
       "4342   1912-01-01        3206              0         3206      5793   \n",
       "4345   1923-01-01        3090              0         3090      6744   \n",
       "\n",
       "      bathrooms  bedrooms                            street       city  \\\n",
       "4340       2.25         4                  12211 SE 65th St   Bellevue   \n",
       "4341       2.50         4                 11659 168th Ct NE    Redmond   \n",
       "4342       2.25         6             25921-25929 35th Pl S       Kent   \n",
       "4345       3.25         4  19117-19123 Richmond Beach Dr NW  Shoreline   \n",
       "\n",
       "      statezip country  \n",
       "4340  WA 98006     USA  \n",
       "4341  WA 98052     USA  \n",
       "4342  WA 98032     USA  \n",
       "4345  WA 98177     USA  "
      ]
     },
     "execution_count": 36,
     "metadata": {},
     "output_type": "execute_result"
    }
   ],
   "source": [
    "find_incon =  df1.apply(compare_date, axis = 1)  # generate a series containing boolean values\n",
    "find_index = find_incon[find_incon == False].index  # get the index of invalid record\n",
    "df1.ix[find_index]"
   ]
  },
  {
   "cell_type": "markdown",
   "metadata": {},
   "source": [
    "The way we are going to fix this problem is to swap the values of yr_built and yr_renovated"
   ]
  },
  {
   "cell_type": "code",
   "execution_count": 37,
   "metadata": {
    "collapsed": false
   },
   "outputs": [
    {
     "data": {
      "text/html": [
       "<div>\n",
       "<table border=\"1\" class=\"dataframe\">\n",
       "  <thead>\n",
       "    <tr style=\"text-align: right;\">\n",
       "      <th></th>\n",
       "      <th>condition</th>\n",
       "      <th>date</th>\n",
       "      <th>floors</th>\n",
       "      <th>price</th>\n",
       "      <th>view</th>\n",
       "      <th>waterfront</th>\n",
       "      <th>yr_built</th>\n",
       "      <th>yr_renovated</th>\n",
       "      <th>sqft_above</th>\n",
       "      <th>sqft_basement</th>\n",
       "      <th>sqft_living</th>\n",
       "      <th>sqft_lot</th>\n",
       "      <th>bathrooms</th>\n",
       "      <th>bedrooms</th>\n",
       "      <th>street</th>\n",
       "      <th>city</th>\n",
       "      <th>statezip</th>\n",
       "      <th>country</th>\n",
       "    </tr>\n",
       "  </thead>\n",
       "  <tbody>\n",
       "    <tr>\n",
       "      <th>4340</th>\n",
       "      <td>3</td>\n",
       "      <td>2014-05-02</td>\n",
       "      <td>1.0</td>\n",
       "      <td>440000.0</td>\n",
       "      <td>0</td>\n",
       "      <td>0</td>\n",
       "      <td>1913-01-01</td>\n",
       "      <td>1966-01-01</td>\n",
       "      <td>1080</td>\n",
       "      <td>1080</td>\n",
       "      <td>2160</td>\n",
       "      <td>8119</td>\n",
       "      <td>2.25</td>\n",
       "      <td>4</td>\n",
       "      <td>12211 SE 65th St</td>\n",
       "      <td>Bellevue</td>\n",
       "      <td>WA 98006</td>\n",
       "      <td>USA</td>\n",
       "    </tr>\n",
       "    <tr>\n",
       "      <th>4341</th>\n",
       "      <td>3</td>\n",
       "      <td>2014-05-26</td>\n",
       "      <td>2.0</td>\n",
       "      <td>690000.0</td>\n",
       "      <td>0</td>\n",
       "      <td>0</td>\n",
       "      <td>2003-01-01</td>\n",
       "      <td>2004-01-01</td>\n",
       "      <td>2700</td>\n",
       "      <td>0</td>\n",
       "      <td>2700</td>\n",
       "      <td>8810</td>\n",
       "      <td>2.50</td>\n",
       "      <td>4</td>\n",
       "      <td>11659 168th Ct NE</td>\n",
       "      <td>Redmond</td>\n",
       "      <td>WA 98052</td>\n",
       "      <td>USA</td>\n",
       "    </tr>\n",
       "    <tr>\n",
       "      <th>4342</th>\n",
       "      <td>3</td>\n",
       "      <td>2014-05-08</td>\n",
       "      <td>2.0</td>\n",
       "      <td>375000.0</td>\n",
       "      <td>0</td>\n",
       "      <td>0</td>\n",
       "      <td>1912-01-01</td>\n",
       "      <td>2012-01-01</td>\n",
       "      <td>3206</td>\n",
       "      <td>0</td>\n",
       "      <td>3206</td>\n",
       "      <td>5793</td>\n",
       "      <td>2.25</td>\n",
       "      <td>6</td>\n",
       "      <td>25921-25929 35th Pl S</td>\n",
       "      <td>Kent</td>\n",
       "      <td>WA 98032</td>\n",
       "      <td>USA</td>\n",
       "    </tr>\n",
       "    <tr>\n",
       "      <th>4345</th>\n",
       "      <td>3</td>\n",
       "      <td>2014-05-22</td>\n",
       "      <td>2.0</td>\n",
       "      <td>850000.0</td>\n",
       "      <td>4</td>\n",
       "      <td>0</td>\n",
       "      <td>1923-01-01</td>\n",
       "      <td>2013-01-01</td>\n",
       "      <td>3090</td>\n",
       "      <td>0</td>\n",
       "      <td>3090</td>\n",
       "      <td>6744</td>\n",
       "      <td>3.25</td>\n",
       "      <td>4</td>\n",
       "      <td>19117-19123 Richmond Beach Dr NW</td>\n",
       "      <td>Shoreline</td>\n",
       "      <td>WA 98177</td>\n",
       "      <td>USA</td>\n",
       "    </tr>\n",
       "  </tbody>\n",
       "</table>\n",
       "</div>"
      ],
      "text/plain": [
       "      condition       date  floors     price  view  waterfront   yr_built  \\\n",
       "4340          3 2014-05-02     1.0  440000.0     0           0 1913-01-01   \n",
       "4341          3 2014-05-26     2.0  690000.0     0           0 2003-01-01   \n",
       "4342          3 2014-05-08     2.0  375000.0     0           0 1912-01-01   \n",
       "4345          3 2014-05-22     2.0  850000.0     4           0 1923-01-01   \n",
       "\n",
       "     yr_renovated  sqft_above  sqft_basement  sqft_living  sqft_lot  \\\n",
       "4340   1966-01-01        1080           1080         2160      8119   \n",
       "4341   2004-01-01        2700              0         2700      8810   \n",
       "4342   2012-01-01        3206              0         3206      5793   \n",
       "4345   2013-01-01        3090              0         3090      6744   \n",
       "\n",
       "      bathrooms  bedrooms                            street       city  \\\n",
       "4340       2.25         4                  12211 SE 65th St   Bellevue   \n",
       "4341       2.50         4                 11659 168th Ct NE    Redmond   \n",
       "4342       2.25         6             25921-25929 35th Pl S       Kent   \n",
       "4345       3.25         4  19117-19123 Richmond Beach Dr NW  Shoreline   \n",
       "\n",
       "      statezip country  \n",
       "4340  WA 98006     USA  \n",
       "4341  WA 98052     USA  \n",
       "4342  WA 98032     USA  \n",
       "4345  WA 98177     USA  "
      ]
     },
     "execution_count": 37,
     "metadata": {},
     "output_type": "execute_result"
    }
   ],
   "source": [
    "yr_renovated = df1.ix[find_index,'yr_built']\n",
    "df1.ix[find_index,'yr_built'] = df1.ix[find_index,'yr_renovated']\n",
    "df1.ix[find_index,'yr_renovated'] = yr_renovated\n",
    "df1.ix[find_index]"
   ]
  },
  {
   "cell_type": "markdown",
   "metadata": {},
   "source": [
    "### 6.5 Semantic Anomaly: Duplicates"
   ]
  },
  {
   "cell_type": "markdown",
   "metadata": {},
   "source": [
    "Duplicates bring redundancy to the data and may influence the distribution of data by adding more weight to certain value, thus we need to remove them. In our dataset, as there is no specific primary key to determine the uniqueness of rows, we decide that rows are duplicates if all their information are matched because no partial conbination of variables can identify each row. Below we find that two records share exactly same information which means they are duplicates."
   ]
  },
  {
   "cell_type": "code",
   "execution_count": 38,
   "metadata": {
    "collapsed": false
   },
   "outputs": [
    {
     "data": {
      "text/html": [
       "<div>\n",
       "<table border=\"1\" class=\"dataframe\">\n",
       "  <thead>\n",
       "    <tr style=\"text-align: right;\">\n",
       "      <th></th>\n",
       "      <th>condition</th>\n",
       "      <th>date</th>\n",
       "      <th>floors</th>\n",
       "      <th>price</th>\n",
       "      <th>view</th>\n",
       "      <th>waterfront</th>\n",
       "      <th>yr_built</th>\n",
       "      <th>yr_renovated</th>\n",
       "      <th>sqft_above</th>\n",
       "      <th>sqft_basement</th>\n",
       "      <th>sqft_living</th>\n",
       "      <th>sqft_lot</th>\n",
       "      <th>bathrooms</th>\n",
       "      <th>bedrooms</th>\n",
       "      <th>street</th>\n",
       "      <th>city</th>\n",
       "      <th>statezip</th>\n",
       "      <th>country</th>\n",
       "    </tr>\n",
       "  </thead>\n",
       "  <tbody>\n",
       "    <tr>\n",
       "      <th>4336</th>\n",
       "      <td>3</td>\n",
       "      <td>2014-05-22</td>\n",
       "      <td>2.0</td>\n",
       "      <td>657500.0</td>\n",
       "      <td>0</td>\n",
       "      <td>0</td>\n",
       "      <td>1989-01-01</td>\n",
       "      <td>NaT</td>\n",
       "      <td>2670</td>\n",
       "      <td>0</td>\n",
       "      <td>2670</td>\n",
       "      <td>10496</td>\n",
       "      <td>2.5</td>\n",
       "      <td>3</td>\n",
       "      <td>1917 235th Ct NE</td>\n",
       "      <td>Sammamish</td>\n",
       "      <td>WA 98074</td>\n",
       "      <td>USA</td>\n",
       "    </tr>\n",
       "    <tr>\n",
       "      <th>4337</th>\n",
       "      <td>3</td>\n",
       "      <td>2014-05-22</td>\n",
       "      <td>2.0</td>\n",
       "      <td>657500.0</td>\n",
       "      <td>0</td>\n",
       "      <td>0</td>\n",
       "      <td>1989-01-01</td>\n",
       "      <td>NaT</td>\n",
       "      <td>2670</td>\n",
       "      <td>0</td>\n",
       "      <td>2670</td>\n",
       "      <td>10496</td>\n",
       "      <td>2.5</td>\n",
       "      <td>3</td>\n",
       "      <td>1917 235th Ct NE</td>\n",
       "      <td>Sammamish</td>\n",
       "      <td>WA 98074</td>\n",
       "      <td>USA</td>\n",
       "    </tr>\n",
       "  </tbody>\n",
       "</table>\n",
       "</div>"
      ],
      "text/plain": [
       "      condition       date  floors     price  view  waterfront   yr_built  \\\n",
       "4336          3 2014-05-22     2.0  657500.0     0           0 1989-01-01   \n",
       "4337          3 2014-05-22     2.0  657500.0     0           0 1989-01-01   \n",
       "\n",
       "     yr_renovated  sqft_above  sqft_basement  sqft_living  sqft_lot  \\\n",
       "4336          NaT        2670              0         2670     10496   \n",
       "4337          NaT        2670              0         2670     10496   \n",
       "\n",
       "      bathrooms  bedrooms            street       city  statezip country  \n",
       "4336        2.5         3  1917 235th Ct NE  Sammamish  WA 98074     USA  \n",
       "4337        2.5         3  1917 235th Ct NE  Sammamish  WA 98074     USA  "
      ]
     },
     "execution_count": 38,
     "metadata": {},
     "output_type": "execute_result"
    }
   ],
   "source": [
    "df1[df1.duplicated( keep = False)]"
   ]
  },
  {
   "cell_type": "markdown",
   "metadata": {},
   "source": [
    "After finding them, we remve the second record and reset the index so that the index 4337 will be assigned to the next valid record."
   ]
  },
  {
   "cell_type": "code",
   "execution_count": 39,
   "metadata": {
    "collapsed": true
   },
   "outputs": [],
   "source": [
    "df1.drop(4337, inplace = True)"
   ]
  },
  {
   "cell_type": "code",
   "execution_count": 40,
   "metadata": {
    "collapsed": true
   },
   "outputs": [],
   "source": [
    "df1.reset_index(drop= True, inplace = True)"
   ]
  },
  {
   "cell_type": "markdown",
   "metadata": {},
   "source": [
    "### 6.6 Outlier"
   ]
  },
  {
   "cell_type": "markdown",
   "metadata": {
    "collapsed": true
   },
   "source": [
    "Outlier is the anomalous entry which is outside the normal behaviour of the majority of data. There are two types of outlier, namely univariate outlier and multivariate outlier, the former can be regarded as the extreme value of a variable and does not conform to a regular distribution of the normal obeserved data, while for multivariate outlier, it is the case with an unusual combination of scores on different variables and not necessarily extreme with respect to any of their individual component values but with respect to the attributes grouped together. Different ways can be applied to the two types of outlier, generally speaking, when treating with univariate outlier from a symmetrically distributed dataset, we can use 3 sd rule, MAD and control chart to detect outliers, also boxplot is a common graphical method that has an advantage of robustness against outliers because it the usage of quartiles. As for multivariate outliers, model-based ways are needed and scatterplot can be very intuitive to detect outliers.\n",
    "\n",
    "In the following section, we are going to check the distribution of our continous numerical variables first to have a sense of what the data look like, then we will inspect univariate outliers for each variable, at last we will calculate the correlation matrix between variables to see which two variables are closely related and find the possible multivariate outliers based on models.\n"
   ]
  },
  {
   "cell_type": "markdown",
   "metadata": {},
   "source": [
    "In the statistics summary table of numeric variables, we can see that there are 5 continous numerical variables needing to check for outliers, which are price, sqft_living, sqft_above, sqft_basement and sqft_lot. Let's draw the histogram to see how they are distributed. "
   ]
  },
  {
   "cell_type": "code",
   "execution_count": 41,
   "metadata": {
    "collapsed": false
   },
   "outputs": [
    {
     "name": "stderr",
     "output_type": "stream",
     "text": [
      "C:\\Users\\Zoe\\Anaconda3\\lib\\site-packages\\numpy\\lib\\function_base.py:3834: RuntimeWarning: Invalid value encountered in percentile\n",
      "  RuntimeWarning)\n"
     ]
    },
    {
     "data": {
      "text/html": [
       "<div>\n",
       "<table border=\"1\" class=\"dataframe\">\n",
       "  <thead>\n",
       "    <tr style=\"text-align: right;\">\n",
       "      <th></th>\n",
       "      <th>condition</th>\n",
       "      <th>floors</th>\n",
       "      <th>price</th>\n",
       "      <th>view</th>\n",
       "      <th>waterfront</th>\n",
       "      <th>sqft_above</th>\n",
       "      <th>sqft_basement</th>\n",
       "      <th>sqft_living</th>\n",
       "      <th>sqft_lot</th>\n",
       "      <th>bathrooms</th>\n",
       "      <th>bedrooms</th>\n",
       "    </tr>\n",
       "  </thead>\n",
       "  <tbody>\n",
       "    <tr>\n",
       "      <th>count</th>\n",
       "      <td>4600.000000</td>\n",
       "      <td>4600.000000</td>\n",
       "      <td>4.352000e+03</td>\n",
       "      <td>4600.000000</td>\n",
       "      <td>4600.000000</td>\n",
       "      <td>4600.000000</td>\n",
       "      <td>4600.000000</td>\n",
       "      <td>4600.000000</td>\n",
       "      <td>4.600000e+03</td>\n",
       "      <td>4600.000000</td>\n",
       "      <td>4600.000000</td>\n",
       "    </tr>\n",
       "    <tr>\n",
       "      <th>mean</th>\n",
       "      <td>3.451739</td>\n",
       "      <td>1.512065</td>\n",
       "      <td>5.649557e+05</td>\n",
       "      <td>0.240652</td>\n",
       "      <td>0.007174</td>\n",
       "      <td>1827.265435</td>\n",
       "      <td>312.146739</td>\n",
       "      <td>2139.412174</td>\n",
       "      <td>1.485252e+04</td>\n",
       "      <td>2.160598</td>\n",
       "      <td>3.400870</td>\n",
       "    </tr>\n",
       "    <tr>\n",
       "      <th>std</th>\n",
       "      <td>0.677230</td>\n",
       "      <td>0.538288</td>\n",
       "      <td>5.728973e+05</td>\n",
       "      <td>0.778405</td>\n",
       "      <td>0.084404</td>\n",
       "      <td>862.168977</td>\n",
       "      <td>464.114443</td>\n",
       "      <td>963.112140</td>\n",
       "      <td>3.588444e+04</td>\n",
       "      <td>0.783722</td>\n",
       "      <td>0.908848</td>\n",
       "    </tr>\n",
       "    <tr>\n",
       "      <th>min</th>\n",
       "      <td>1.000000</td>\n",
       "      <td>1.000000</td>\n",
       "      <td>7.800000e+03</td>\n",
       "      <td>0.000000</td>\n",
       "      <td>0.000000</td>\n",
       "      <td>370.000000</td>\n",
       "      <td>0.000000</td>\n",
       "      <td>370.000000</td>\n",
       "      <td>6.380000e+02</td>\n",
       "      <td>0.000000</td>\n",
       "      <td>0.000000</td>\n",
       "    </tr>\n",
       "    <tr>\n",
       "      <th>25%</th>\n",
       "      <td>3.000000</td>\n",
       "      <td>1.000000</td>\n",
       "      <td>NaN</td>\n",
       "      <td>0.000000</td>\n",
       "      <td>0.000000</td>\n",
       "      <td>1190.000000</td>\n",
       "      <td>0.000000</td>\n",
       "      <td>1460.000000</td>\n",
       "      <td>5.000750e+03</td>\n",
       "      <td>1.750000</td>\n",
       "      <td>3.000000</td>\n",
       "    </tr>\n",
       "    <tr>\n",
       "      <th>50%</th>\n",
       "      <td>3.000000</td>\n",
       "      <td>1.500000</td>\n",
       "      <td>NaN</td>\n",
       "      <td>0.000000</td>\n",
       "      <td>0.000000</td>\n",
       "      <td>1590.000000</td>\n",
       "      <td>0.000000</td>\n",
       "      <td>1980.000000</td>\n",
       "      <td>7.683000e+03</td>\n",
       "      <td>2.250000</td>\n",
       "      <td>3.000000</td>\n",
       "    </tr>\n",
       "    <tr>\n",
       "      <th>75%</th>\n",
       "      <td>4.000000</td>\n",
       "      <td>2.000000</td>\n",
       "      <td>NaN</td>\n",
       "      <td>0.000000</td>\n",
       "      <td>0.000000</td>\n",
       "      <td>2300.000000</td>\n",
       "      <td>610.000000</td>\n",
       "      <td>2620.000000</td>\n",
       "      <td>1.100125e+04</td>\n",
       "      <td>2.500000</td>\n",
       "      <td>4.000000</td>\n",
       "    </tr>\n",
       "    <tr>\n",
       "      <th>max</th>\n",
       "      <td>5.000000</td>\n",
       "      <td>3.500000</td>\n",
       "      <td>2.659000e+07</td>\n",
       "      <td>4.000000</td>\n",
       "      <td>1.000000</td>\n",
       "      <td>9410.000000</td>\n",
       "      <td>4820.000000</td>\n",
       "      <td>13540.000000</td>\n",
       "      <td>1.074218e+06</td>\n",
       "      <td>8.000000</td>\n",
       "      <td>9.000000</td>\n",
       "    </tr>\n",
       "  </tbody>\n",
       "</table>\n",
       "</div>"
      ],
      "text/plain": [
       "         condition       floors         price         view   waterfront  \\\n",
       "count  4600.000000  4600.000000  4.352000e+03  4600.000000  4600.000000   \n",
       "mean      3.451739     1.512065  5.649557e+05     0.240652     0.007174   \n",
       "std       0.677230     0.538288  5.728973e+05     0.778405     0.084404   \n",
       "min       1.000000     1.000000  7.800000e+03     0.000000     0.000000   \n",
       "25%       3.000000     1.000000           NaN     0.000000     0.000000   \n",
       "50%       3.000000     1.500000           NaN     0.000000     0.000000   \n",
       "75%       4.000000     2.000000           NaN     0.000000     0.000000   \n",
       "max       5.000000     3.500000  2.659000e+07     4.000000     1.000000   \n",
       "\n",
       "        sqft_above  sqft_basement   sqft_living      sqft_lot    bathrooms  \\\n",
       "count  4600.000000    4600.000000   4600.000000  4.600000e+03  4600.000000   \n",
       "mean   1827.265435     312.146739   2139.412174  1.485252e+04     2.160598   \n",
       "std     862.168977     464.114443    963.112140  3.588444e+04     0.783722   \n",
       "min     370.000000       0.000000    370.000000  6.380000e+02     0.000000   \n",
       "25%    1190.000000       0.000000   1460.000000  5.000750e+03     1.750000   \n",
       "50%    1590.000000       0.000000   1980.000000  7.683000e+03     2.250000   \n",
       "75%    2300.000000     610.000000   2620.000000  1.100125e+04     2.500000   \n",
       "max    9410.000000    4820.000000  13540.000000  1.074218e+06     8.000000   \n",
       "\n",
       "          bedrooms  \n",
       "count  4600.000000  \n",
       "mean      3.400870  \n",
       "std       0.908848  \n",
       "min       0.000000  \n",
       "25%       3.000000  \n",
       "50%       3.000000  \n",
       "75%       4.000000  \n",
       "max       9.000000  "
      ]
     },
     "execution_count": 41,
     "metadata": {},
     "output_type": "execute_result"
    }
   ],
   "source": [
    "df1.describe()"
   ]
  },
  {
   "cell_type": "code",
   "execution_count": 42,
   "metadata": {
    "collapsed": false
   },
   "outputs": [
    {
     "data": {
      "text/plain": [
       "array([[<matplotlib.axes._subplots.AxesSubplot object at 0x000001E8AE3BD4E0>]], dtype=object)"
      ]
     },
     "execution_count": 42,
     "metadata": {},
     "output_type": "execute_result"
    },
    {
     "data": {
      "image/png": "[encoded data removed]",
      "text/plain": [
       "<matplotlib.figure.Figure at 0x1e8adacd828>"
      ]
     },
     "metadata": {},
     "output_type": "display_data"
    },
    {
     "data": {
      "image/png": "[encoded data removed]",
      "text/plain": [
       "<matplotlib.figure.Figure at 0x1e8adacd048>"
      ]
     },
     "metadata": {},
     "output_type": "display_data"
    },
    {
     "data": {
      "image/png": "[encoded data removed]",
      "text/plain": [
       "<matplotlib.figure.Figure at 0x1e8adacd9b0>"
      ]
     },
     "metadata": {},
     "output_type": "display_data"
    },
    {
     "data": {
      "image/png": "[encoded data removed]",
      "text/plain": [
       "<matplotlib.figure.Figure at 0x1e8ae2ade10>"
      ]
     },
     "metadata": {},
     "output_type": "display_data"
    },
    {
     "data": {
      "image/png": "[encoded data removed]",
      "text/plain": [
       "<matplotlib.figure.Figure at 0x1e8ae13d198>"
      ]
     },
     "metadata": {},
     "output_type": "display_data"
    }
   ],
   "source": [
    "df1.hist('price', bins = 30)\n",
    "df1.hist('sqft_living', bins = 30)\n",
    "df1.hist('sqft_above', bins = 30)\n",
    "df1.hist('sqft_basement', bins = 30)\n",
    "df1.hist('sqft_lot', bins = 30)"
   ]
  },
  {
   "cell_type": "markdown",
   "metadata": {},
   "source": [
    "#### 6.6.1 Univariate outlier "
   ]
  },
  {
   "cell_type": "markdown",
   "metadata": {},
   "source": [
    "As we can see from above graphs, these five variables are highly skewed data thus general way of treating univariate outlier such as boxplot, 3 sd rule, MAD will not work on them. To address this problem, we will introduce an outlier detection method for skewed univariate data which takes skewness into account to calculate the adjusted outlyingness. This solution is provided by Mia Hubert(2007). The boundary pr so-called whiskers are adjusted such that for skewed data, much less regular data points fall outside the whiskers. This is obtained by replacing the interval into [Q1 − 3exp(−4MC)\\* IQR , Q3 + 3exp(3MC)\\*IQR],in which MC stands for the medcouple which is a robust measure of skewness.  \n",
    "\n",
    "Below is the function to dectect the outlier of skewed data, it takes on two paramters which are a single column and multiplicator of whisker, it will return the upper and lower boundary of a variable, values out of this boundary are suspicious outliers. With the help of online property resources such as website [Redfin](https://www.redfin.com/) , we can verify the correctness of the data."
   ]
  },
  {
   "cell_type": "code",
   "execution_count": 43,
   "metadata": {
    "collapsed": true
   },
   "outputs": [],
   "source": [
    "def skewed_outlier( column , times):\n",
    "    col = [float(i) for i in column]\n",
    "    mc = float(sm.medcouple(col))\n",
    "    whi_1 = times*math.exp(-4*mc)\n",
    "    whi_2 = times*math.exp(3*mc)\n",
    "    q1 = column.quantile(0.25)\n",
    "    q3 = column.quantile(0.75)\n",
    "    IQR = q3 - q1\n",
    "    return [ q1-whi_1*IQR, q3+whi_2*IQR]"
   ]
  },
  {
   "cell_type": "code",
   "execution_count": 44,
   "metadata": {
    "collapsed": false
   },
   "outputs": [
    {
     "data": {
      "text/html": [
       "<div>\n",
       "<table border=\"1\" class=\"dataframe\">\n",
       "  <thead>\n",
       "    <tr style=\"text-align: right;\">\n",
       "      <th></th>\n",
       "      <th>condition</th>\n",
       "      <th>date</th>\n",
       "      <th>floors</th>\n",
       "      <th>price</th>\n",
       "      <th>view</th>\n",
       "      <th>waterfront</th>\n",
       "      <th>yr_built</th>\n",
       "      <th>yr_renovated</th>\n",
       "      <th>sqft_above</th>\n",
       "      <th>sqft_basement</th>\n",
       "      <th>sqft_living</th>\n",
       "      <th>sqft_lot</th>\n",
       "      <th>bathrooms</th>\n",
       "      <th>bedrooms</th>\n",
       "      <th>street</th>\n",
       "      <th>city</th>\n",
       "      <th>statezip</th>\n",
       "      <th>country</th>\n",
       "    </tr>\n",
       "  </thead>\n",
       "  <tbody>\n",
       "    <tr>\n",
       "      <th>122</th>\n",
       "      <td>3</td>\n",
       "      <td>2014-05-05</td>\n",
       "      <td>3.0</td>\n",
       "      <td>2280000.0</td>\n",
       "      <td>4</td>\n",
       "      <td>0</td>\n",
       "      <td>1999-01-01</td>\n",
       "      <td>NaT</td>\n",
       "      <td>9410</td>\n",
       "      <td>4130</td>\n",
       "      <td>13540</td>\n",
       "      <td>307752</td>\n",
       "      <td>8.00</td>\n",
       "      <td>7</td>\n",
       "      <td>26408 NE 70th St</td>\n",
       "      <td>Redmond</td>\n",
       "      <td>WA 98053</td>\n",
       "      <td>USA</td>\n",
       "    </tr>\n",
       "    <tr>\n",
       "      <th>2286</th>\n",
       "      <td>3</td>\n",
       "      <td>2014-06-11</td>\n",
       "      <td>2.0</td>\n",
       "      <td>7062500.0</td>\n",
       "      <td>2</td>\n",
       "      <td>1</td>\n",
       "      <td>1940-01-01</td>\n",
       "      <td>2001-01-01</td>\n",
       "      <td>7680</td>\n",
       "      <td>2360</td>\n",
       "      <td>10040</td>\n",
       "      <td>37325</td>\n",
       "      <td>4.50</td>\n",
       "      <td>5</td>\n",
       "      <td>4442 95th Ave NE</td>\n",
       "      <td>Bellevue</td>\n",
       "      <td>WA 98004</td>\n",
       "      <td>USA</td>\n",
       "    </tr>\n",
       "    <tr>\n",
       "      <th>2328</th>\n",
       "      <td>3</td>\n",
       "      <td>2014-06-11</td>\n",
       "      <td>2.0</td>\n",
       "      <td>2888000.0</td>\n",
       "      <td>4</td>\n",
       "      <td>0</td>\n",
       "      <td>1965-01-01</td>\n",
       "      <td>2003-01-01</td>\n",
       "      <td>6120</td>\n",
       "      <td>2550</td>\n",
       "      <td>8670</td>\n",
       "      <td>64033</td>\n",
       "      <td>6.25</td>\n",
       "      <td>5</td>\n",
       "      <td>1291 NW Elford Dr</td>\n",
       "      <td>Seattle</td>\n",
       "      <td>WA 98177</td>\n",
       "      <td>USA</td>\n",
       "    </tr>\n",
       "    <tr>\n",
       "      <th>2654</th>\n",
       "      <td>3</td>\n",
       "      <td>2014-06-17</td>\n",
       "      <td>1.0</td>\n",
       "      <td>4668000.0</td>\n",
       "      <td>4</td>\n",
       "      <td>1</td>\n",
       "      <td>1983-01-01</td>\n",
       "      <td>2009-01-01</td>\n",
       "      <td>4820</td>\n",
       "      <td>4820</td>\n",
       "      <td>9640</td>\n",
       "      <td>13068</td>\n",
       "      <td>6.75</td>\n",
       "      <td>5</td>\n",
       "      <td>5044 Butterworth Rd</td>\n",
       "      <td>Mercer Island</td>\n",
       "      <td>WA 98040</td>\n",
       "      <td>USA</td>\n",
       "    </tr>\n",
       "  </tbody>\n",
       "</table>\n",
       "</div>"
      ],
      "text/plain": [
       "      condition       date  floors      price  view  waterfront   yr_built  \\\n",
       "122           3 2014-05-05     3.0  2280000.0     4           0 1999-01-01   \n",
       "2286          3 2014-06-11     2.0  7062500.0     2           1 1940-01-01   \n",
       "2328          3 2014-06-11     2.0  2888000.0     4           0 1965-01-01   \n",
       "2654          3 2014-06-17     1.0  4668000.0     4           1 1983-01-01   \n",
       "\n",
       "     yr_renovated  sqft_above  sqft_basement  sqft_living  sqft_lot  \\\n",
       "122           NaT        9410           4130        13540    307752   \n",
       "2286   2001-01-01        7680           2360        10040     37325   \n",
       "2328   2003-01-01        6120           2550         8670     64033   \n",
       "2654   2009-01-01        4820           4820         9640     13068   \n",
       "\n",
       "      bathrooms  bedrooms               street           city  statezip  \\\n",
       "122        8.00         7     26408 NE 70th St        Redmond  WA 98053   \n",
       "2286       4.50         5     4442 95th Ave NE       Bellevue  WA 98004   \n",
       "2328       6.25         5    1291 NW Elford Dr        Seattle  WA 98177   \n",
       "2654       6.75         5  5044 Butterworth Rd  Mercer Island  WA 98040   \n",
       "\n",
       "     country  \n",
       "122      USA  \n",
       "2286     USA  \n",
       "2328     USA  \n",
       "2654     USA  "
      ]
     },
     "execution_count": 44,
     "metadata": {},
     "output_type": "execute_result"
    }
   ],
   "source": [
    "# check for outliers of sqft_living\n",
    "# one suspicious outlier is detected\n",
    "# but after verifying its information on the online property agent website Redfin, it is a valid value\n",
    "df1.loc[ (df1.sqft_living < skewed_outlier(df1.sqft_living, 3)[0])  | (df1.sqft_living > skewed_outlier(df1.sqft_living, 3)[1]) ]"
   ]
  },
  {
   "cell_type": "code",
   "execution_count": 45,
   "metadata": {
    "collapsed": false
   },
   "outputs": [
    {
     "data": {
      "text/html": [
       "<div>\n",
       "<table border=\"1\" class=\"dataframe\">\n",
       "  <thead>\n",
       "    <tr style=\"text-align: right;\">\n",
       "      <th></th>\n",
       "      <th>condition</th>\n",
       "      <th>date</th>\n",
       "      <th>floors</th>\n",
       "      <th>price</th>\n",
       "      <th>view</th>\n",
       "      <th>waterfront</th>\n",
       "      <th>yr_built</th>\n",
       "      <th>yr_renovated</th>\n",
       "      <th>sqft_above</th>\n",
       "      <th>sqft_basement</th>\n",
       "      <th>sqft_living</th>\n",
       "      <th>sqft_lot</th>\n",
       "      <th>bathrooms</th>\n",
       "      <th>bedrooms</th>\n",
       "      <th>street</th>\n",
       "      <th>city</th>\n",
       "      <th>statezip</th>\n",
       "      <th>country</th>\n",
       "    </tr>\n",
       "  </thead>\n",
       "  <tbody>\n",
       "  </tbody>\n",
       "</table>\n",
       "</div>"
      ],
      "text/plain": [
       "Empty DataFrame\n",
       "Columns: [condition, date, floors, price, view, waterfront, yr_built, yr_renovated, sqft_above, sqft_basement, sqft_living, sqft_lot, bathrooms, bedrooms, street, city, statezip, country]\n",
       "Index: []"
      ]
     },
     "execution_count": 45,
     "metadata": {},
     "output_type": "execute_result"
    }
   ],
   "source": [
    "# check for outliers of sqft_above\n",
    "# no suspicious outlier is detected\n",
    "df1.loc[ (df1.sqft_above < skewed_outlier(df1.sqft_above, 3)[0])  | (df1.sqft_above > skewed_outlier(df1.sqft_above, 3)[1]) ]"
   ]
  },
  {
   "cell_type": "code",
   "execution_count": 46,
   "metadata": {
    "collapsed": false
   },
   "outputs": [
    {
     "data": {
      "text/html": [
       "<div>\n",
       "<table border=\"1\" class=\"dataframe\">\n",
       "  <thead>\n",
       "    <tr style=\"text-align: right;\">\n",
       "      <th></th>\n",
       "      <th>condition</th>\n",
       "      <th>date</th>\n",
       "      <th>floors</th>\n",
       "      <th>price</th>\n",
       "      <th>view</th>\n",
       "      <th>waterfront</th>\n",
       "      <th>yr_built</th>\n",
       "      <th>yr_renovated</th>\n",
       "      <th>sqft_above</th>\n",
       "      <th>sqft_basement</th>\n",
       "      <th>sqft_living</th>\n",
       "      <th>sqft_lot</th>\n",
       "      <th>bathrooms</th>\n",
       "      <th>bedrooms</th>\n",
       "      <th>street</th>\n",
       "      <th>city</th>\n",
       "      <th>statezip</th>\n",
       "      <th>country</th>\n",
       "    </tr>\n",
       "  </thead>\n",
       "  <tbody>\n",
       "    <tr>\n",
       "      <th>122</th>\n",
       "      <td>3</td>\n",
       "      <td>2014-05-05</td>\n",
       "      <td>3.0</td>\n",
       "      <td>2280000.0</td>\n",
       "      <td>4</td>\n",
       "      <td>0</td>\n",
       "      <td>1999-01-01</td>\n",
       "      <td>NaT</td>\n",
       "      <td>9410</td>\n",
       "      <td>4130</td>\n",
       "      <td>13540</td>\n",
       "      <td>307752</td>\n",
       "      <td>8.00</td>\n",
       "      <td>7</td>\n",
       "      <td>26408 NE 70th St</td>\n",
       "      <td>Redmond</td>\n",
       "      <td>WA 98053</td>\n",
       "      <td>USA</td>\n",
       "    </tr>\n",
       "    <tr>\n",
       "      <th>2654</th>\n",
       "      <td>3</td>\n",
       "      <td>2014-06-17</td>\n",
       "      <td>1.0</td>\n",
       "      <td>4668000.0</td>\n",
       "      <td>4</td>\n",
       "      <td>1</td>\n",
       "      <td>1983-01-01</td>\n",
       "      <td>2009-01-01</td>\n",
       "      <td>4820</td>\n",
       "      <td>4820</td>\n",
       "      <td>9640</td>\n",
       "      <td>13068</td>\n",
       "      <td>6.75</td>\n",
       "      <td>5</td>\n",
       "      <td>5044 Butterworth Rd</td>\n",
       "      <td>Mercer Island</td>\n",
       "      <td>WA 98040</td>\n",
       "      <td>USA</td>\n",
       "    </tr>\n",
       "  </tbody>\n",
       "</table>\n",
       "</div>"
      ],
      "text/plain": [
       "      condition       date  floors      price  view  waterfront   yr_built  \\\n",
       "122           3 2014-05-05     3.0  2280000.0     4           0 1999-01-01   \n",
       "2654          3 2014-06-17     1.0  4668000.0     4           1 1983-01-01   \n",
       "\n",
       "     yr_renovated  sqft_above  sqft_basement  sqft_living  sqft_lot  \\\n",
       "122           NaT        9410           4130        13540    307752   \n",
       "2654   2009-01-01        4820           4820         9640     13068   \n",
       "\n",
       "      bathrooms  bedrooms               street           city  statezip  \\\n",
       "122        8.00         7     26408 NE 70th St        Redmond  WA 98053   \n",
       "2654       6.75         5  5044 Butterworth Rd  Mercer Island  WA 98040   \n",
       "\n",
       "     country  \n",
       "122      USA  \n",
       "2654     USA  "
      ]
     },
     "execution_count": 46,
     "metadata": {},
     "output_type": "execute_result"
    }
   ],
   "source": [
    "# check for outliers of sqft_basement\n",
    "# two suspicious outliers are detected\n",
    "# but after verifying its information on the online property agent website Redfin, they are valid values\n",
    "df1.loc[ (df1.sqft_basement < skewed_outlier(df1.sqft_basement, 5)[0])  | (df1.sqft_basement > skewed_outlier(df1.sqft_basement, 5)[1]) ]"
   ]
  },
  {
   "cell_type": "markdown",
   "metadata": {},
   "source": [
    "Below we check for outliers of sqft_basement and four suspicious outliers are detected, by verifying their information on Redfin website, we find that **index 4346 and 4350 are outliers**, they have extra zero compared with their true value. So we fix them by replacing them with their real values."
   ]
  },
  {
   "cell_type": "code",
   "execution_count": 47,
   "metadata": {
    "collapsed": false
   },
   "outputs": [
    {
     "data": {
      "text/html": [
       "<div>\n",
       "<table border=\"1\" class=\"dataframe\">\n",
       "  <thead>\n",
       "    <tr style=\"text-align: right;\">\n",
       "      <th></th>\n",
       "      <th>condition</th>\n",
       "      <th>date</th>\n",
       "      <th>floors</th>\n",
       "      <th>price</th>\n",
       "      <th>view</th>\n",
       "      <th>waterfront</th>\n",
       "      <th>yr_built</th>\n",
       "      <th>yr_renovated</th>\n",
       "      <th>sqft_above</th>\n",
       "      <th>sqft_basement</th>\n",
       "      <th>sqft_living</th>\n",
       "      <th>sqft_lot</th>\n",
       "      <th>bathrooms</th>\n",
       "      <th>bedrooms</th>\n",
       "      <th>street</th>\n",
       "      <th>city</th>\n",
       "      <th>statezip</th>\n",
       "      <th>country</th>\n",
       "    </tr>\n",
       "  </thead>\n",
       "  <tbody>\n",
       "    <tr>\n",
       "      <th>2286</th>\n",
       "      <td>3</td>\n",
       "      <td>2014-06-11</td>\n",
       "      <td>2.0</td>\n",
       "      <td>7062500.0</td>\n",
       "      <td>2</td>\n",
       "      <td>1</td>\n",
       "      <td>1940-01-01</td>\n",
       "      <td>2001-01-01</td>\n",
       "      <td>7680</td>\n",
       "      <td>2360</td>\n",
       "      <td>10040</td>\n",
       "      <td>37325</td>\n",
       "      <td>4.50</td>\n",
       "      <td>5</td>\n",
       "      <td>4442 95th Ave NE</td>\n",
       "      <td>Bellevue</td>\n",
       "      <td>WA 98004</td>\n",
       "      <td>USA</td>\n",
       "    </tr>\n",
       "    <tr>\n",
       "      <th>2654</th>\n",
       "      <td>3</td>\n",
       "      <td>2014-06-17</td>\n",
       "      <td>1.0</td>\n",
       "      <td>4668000.0</td>\n",
       "      <td>4</td>\n",
       "      <td>1</td>\n",
       "      <td>1983-01-01</td>\n",
       "      <td>2009-01-01</td>\n",
       "      <td>4820</td>\n",
       "      <td>4820</td>\n",
       "      <td>9640</td>\n",
       "      <td>13068</td>\n",
       "      <td>6.75</td>\n",
       "      <td>5</td>\n",
       "      <td>5044 Butterworth Rd</td>\n",
       "      <td>Mercer Island</td>\n",
       "      <td>WA 98040</td>\n",
       "      <td>USA</td>\n",
       "    </tr>\n",
       "    <tr>\n",
       "      <th>4346</th>\n",
       "      <td>3</td>\n",
       "      <td>2014-06-23</td>\n",
       "      <td>1.0</td>\n",
       "      <td>12899000.0</td>\n",
       "      <td>0</td>\n",
       "      <td>0</td>\n",
       "      <td>1956-01-01</td>\n",
       "      <td>NaT</td>\n",
       "      <td>1550</td>\n",
       "      <td>640</td>\n",
       "      <td>2190</td>\n",
       "      <td>11394</td>\n",
       "      <td>2.50</td>\n",
       "      <td>3</td>\n",
       "      <td>5426 40th Ave W</td>\n",
       "      <td>Seattle</td>\n",
       "      <td>WA 98199</td>\n",
       "      <td>USA</td>\n",
       "    </tr>\n",
       "    <tr>\n",
       "      <th>4350</th>\n",
       "      <td>4</td>\n",
       "      <td>2014-07-03</td>\n",
       "      <td>1.0</td>\n",
       "      <td>26590000.0</td>\n",
       "      <td>0</td>\n",
       "      <td>0</td>\n",
       "      <td>1992-01-01</td>\n",
       "      <td>NaT</td>\n",
       "      <td>1180</td>\n",
       "      <td>0</td>\n",
       "      <td>1180</td>\n",
       "      <td>7793</td>\n",
       "      <td>2.00</td>\n",
       "      <td>3</td>\n",
       "      <td>12005 SE 219th Ct</td>\n",
       "      <td>Kent</td>\n",
       "      <td>WA 98031</td>\n",
       "      <td>USA</td>\n",
       "    </tr>\n",
       "  </tbody>\n",
       "</table>\n",
       "</div>"
      ],
      "text/plain": [
       "      condition       date  floors       price  view  waterfront   yr_built  \\\n",
       "2286          3 2014-06-11     2.0   7062500.0     2           1 1940-01-01   \n",
       "2654          3 2014-06-17     1.0   4668000.0     4           1 1983-01-01   \n",
       "4346          3 2014-06-23     1.0  12899000.0     0           0 1956-01-01   \n",
       "4350          4 2014-07-03     1.0  26590000.0     0           0 1992-01-01   \n",
       "\n",
       "     yr_renovated  sqft_above  sqft_basement  sqft_living  sqft_lot  \\\n",
       "2286   2001-01-01        7680           2360        10040     37325   \n",
       "2654   2009-01-01        4820           4820         9640     13068   \n",
       "4346          NaT        1550            640         2190     11394   \n",
       "4350          NaT        1180              0         1180      7793   \n",
       "\n",
       "      bathrooms  bedrooms               street           city  statezip  \\\n",
       "2286       4.50         5     4442 95th Ave NE       Bellevue  WA 98004   \n",
       "2654       6.75         5  5044 Butterworth Rd  Mercer Island  WA 98040   \n",
       "4346       2.50         3      5426 40th Ave W        Seattle  WA 98199   \n",
       "4350       2.00         3    12005 SE 219th Ct           Kent  WA 98031   \n",
       "\n",
       "     country  \n",
       "2286     USA  \n",
       "2654     USA  \n",
       "4346     USA  \n",
       "4350     USA  "
      ]
     },
     "execution_count": 47,
     "metadata": {},
     "output_type": "execute_result"
    }
   ],
   "source": [
    "df_price = df1[pd.notnull(df1.price)].price  # price with not null values\n",
    "df1.loc[ (df1.price < skewed_outlier(df_price, 6)[0])  | (df1.price > skewed_outlier(df_price, 6)[1]) ]"
   ]
  },
  {
   "cell_type": "code",
   "execution_count": 48,
   "metadata": {
    "collapsed": true
   },
   "outputs": [],
   "source": [
    "df1.price.replace({12899000.0:1289000}, inplace = True) \n",
    "df1.price.replace({26590000.0:265900}, inplace = True)"
   ]
  },
  {
   "cell_type": "markdown",
   "metadata": {},
   "source": [
    "#### 6.6.2 Multivariate outlier"
   ]
  },
  {
   "cell_type": "markdown",
   "metadata": {},
   "source": [
    "To detect multivariate outliers, we need to find the variables closely related to each other, based on which we can draw the scatter plot of two variables and find the outlier far away from the overall trend. From the correlation matrix below, we can see that price has a moderate relation with sqft_living, and bathrooms is closely related to sqft_living and sqft_above. In the next step, we are going to use scatterplot to identify outliers."
   ]
  },
  {
   "cell_type": "code",
   "execution_count": 49,
   "metadata": {
    "collapsed": false,
    "scrolled": false
   },
   "outputs": [
    {
     "data": {
      "text/html": [
       "<div>\n",
       "<table border=\"1\" class=\"dataframe\">\n",
       "  <thead>\n",
       "    <tr style=\"text-align: right;\">\n",
       "      <th></th>\n",
       "      <th>price</th>\n",
       "      <th>sqft_living</th>\n",
       "      <th>sqft_above</th>\n",
       "      <th>sqft_basement</th>\n",
       "      <th>sqft_lot</th>\n",
       "    </tr>\n",
       "  </thead>\n",
       "  <tbody>\n",
       "    <tr>\n",
       "      <th>condition</th>\n",
       "      <td>0.052644</td>\n",
       "      <td>-0.062777</td>\n",
       "      <td>-0.178196</td>\n",
       "      <td>0.200756</td>\n",
       "      <td>0.000558</td>\n",
       "    </tr>\n",
       "    <tr>\n",
       "      <th>floors</th>\n",
       "      <td>0.255204</td>\n",
       "      <td>0.344820</td>\n",
       "      <td>0.522814</td>\n",
       "      <td>-0.255656</td>\n",
       "      <td>0.003750</td>\n",
       "    </tr>\n",
       "    <tr>\n",
       "      <th>price</th>\n",
       "      <td>1.000000</td>\n",
       "      <td>0.708970</td>\n",
       "      <td>0.607852</td>\n",
       "      <td>0.344356</td>\n",
       "      <td>0.086630</td>\n",
       "    </tr>\n",
       "    <tr>\n",
       "      <th>view</th>\n",
       "      <td>0.389262</td>\n",
       "      <td>0.311019</td>\n",
       "      <td>0.174327</td>\n",
       "      <td>0.321574</td>\n",
       "      <td>0.073907</td>\n",
       "    </tr>\n",
       "    <tr>\n",
       "      <th>waterfront</th>\n",
       "      <td>0.237766</td>\n",
       "      <td>0.117622</td>\n",
       "      <td>0.078911</td>\n",
       "      <td>0.097494</td>\n",
       "      <td>0.017241</td>\n",
       "    </tr>\n",
       "    <tr>\n",
       "      <th>sqft_above</th>\n",
       "      <td>0.607852</td>\n",
       "      <td>0.876432</td>\n",
       "      <td>1.000000</td>\n",
       "      <td>-0.038927</td>\n",
       "      <td>0.216455</td>\n",
       "    </tr>\n",
       "    <tr>\n",
       "      <th>sqft_basement</th>\n",
       "      <td>0.344356</td>\n",
       "      <td>0.447044</td>\n",
       "      <td>-0.038927</td>\n",
       "      <td>1.000000</td>\n",
       "      <td>0.034789</td>\n",
       "    </tr>\n",
       "    <tr>\n",
       "      <th>sqft_living</th>\n",
       "      <td>0.708970</td>\n",
       "      <td>1.000000</td>\n",
       "      <td>0.876432</td>\n",
       "      <td>0.447044</td>\n",
       "      <td>0.210533</td>\n",
       "    </tr>\n",
       "    <tr>\n",
       "      <th>sqft_lot</th>\n",
       "      <td>0.086630</td>\n",
       "      <td>0.210533</td>\n",
       "      <td>0.216455</td>\n",
       "      <td>0.034789</td>\n",
       "      <td>1.000000</td>\n",
       "    </tr>\n",
       "    <tr>\n",
       "      <th>bathrooms</th>\n",
       "      <td>0.525258</td>\n",
       "      <td>0.761268</td>\n",
       "      <td>0.689962</td>\n",
       "      <td>0.298036</td>\n",
       "      <td>0.107915</td>\n",
       "    </tr>\n",
       "    <tr>\n",
       "      <th>bedrooms</th>\n",
       "      <td>0.332579</td>\n",
       "      <td>0.594764</td>\n",
       "      <td>0.484705</td>\n",
       "      <td>0.333810</td>\n",
       "      <td>0.068819</td>\n",
       "    </tr>\n",
       "  </tbody>\n",
       "</table>\n",
       "</div>"
      ],
      "text/plain": [
       "                  price  sqft_living  sqft_above  sqft_basement  sqft_lot\n",
       "condition      0.052644    -0.062777   -0.178196       0.200756  0.000558\n",
       "floors         0.255204     0.344820    0.522814      -0.255656  0.003750\n",
       "price          1.000000     0.708970    0.607852       0.344356  0.086630\n",
       "view           0.389262     0.311019    0.174327       0.321574  0.073907\n",
       "waterfront     0.237766     0.117622    0.078911       0.097494  0.017241\n",
       "sqft_above     0.607852     0.876432    1.000000      -0.038927  0.216455\n",
       "sqft_basement  0.344356     0.447044   -0.038927       1.000000  0.034789\n",
       "sqft_living    0.708970     1.000000    0.876432       0.447044  0.210533\n",
       "sqft_lot       0.086630     0.210533    0.216455       0.034789  1.000000\n",
       "bathrooms      0.525258     0.761268    0.689962       0.298036  0.107915\n",
       "bedrooms       0.332579     0.594764    0.484705       0.333810  0.068819"
      ]
     },
     "execution_count": 49,
     "metadata": {},
     "output_type": "execute_result"
    }
   ],
   "source": [
    "df1.corr()[['price','sqft_living','sqft_above','sqft_basement','sqft_lot']]"
   ]
  },
  {
   "cell_type": "markdown",
   "metadata": {},
   "source": [
    "From the graph below we can see that 3 points are distinct from the ovarall pattern, their prices are near $2000000, however their sqft_living values are either extremely high or relatively low, they can be seen as suspicous outliers."
   ]
  },
  {
   "cell_type": "code",
   "execution_count": 50,
   "metadata": {
    "collapsed": false
   },
   "outputs": [
    {
     "data": {
      "image/png": "[encoded data removed]",
      "text/plain": [
       "<matplotlib.figure.Figure at 0x1e8ae4a87b8>"
      ]
     },
     "metadata": {},
     "output_type": "display_data"
    }
   ],
   "source": [
    "fig, ax = plt.subplots()\n",
    "df1.plot('price', 'sqft_living', kind='scatter', ax=ax)\n",
    "fig.canvas.draw()"
   ]
  },
  {
   "cell_type": "code",
   "execution_count": 51,
   "metadata": {
    "collapsed": false
   },
   "outputs": [
    {
     "data": {
      "text/html": [
       "<div>\n",
       "<table border=\"1\" class=\"dataframe\">\n",
       "  <thead>\n",
       "    <tr style=\"text-align: right;\">\n",
       "      <th></th>\n",
       "      <th>condition</th>\n",
       "      <th>date</th>\n",
       "      <th>floors</th>\n",
       "      <th>price</th>\n",
       "      <th>view</th>\n",
       "      <th>waterfront</th>\n",
       "      <th>yr_built</th>\n",
       "      <th>yr_renovated</th>\n",
       "      <th>sqft_above</th>\n",
       "      <th>sqft_basement</th>\n",
       "      <th>sqft_living</th>\n",
       "      <th>sqft_lot</th>\n",
       "      <th>bathrooms</th>\n",
       "      <th>bedrooms</th>\n",
       "      <th>street</th>\n",
       "      <th>city</th>\n",
       "      <th>statezip</th>\n",
       "      <th>country</th>\n",
       "    </tr>\n",
       "  </thead>\n",
       "  <tbody>\n",
       "    <tr>\n",
       "      <th>122</th>\n",
       "      <td>3</td>\n",
       "      <td>2014-05-05</td>\n",
       "      <td>3.0</td>\n",
       "      <td>2280000.0</td>\n",
       "      <td>4</td>\n",
       "      <td>0</td>\n",
       "      <td>1999-01-01</td>\n",
       "      <td>NaT</td>\n",
       "      <td>9410</td>\n",
       "      <td>4130</td>\n",
       "      <td>13540</td>\n",
       "      <td>307752</td>\n",
       "      <td>8.0</td>\n",
       "      <td>7</td>\n",
       "      <td>26408 NE 70th St</td>\n",
       "      <td>Redmond</td>\n",
       "      <td>WA 98053</td>\n",
       "      <td>USA</td>\n",
       "    </tr>\n",
       "    <tr>\n",
       "      <th>4347</th>\n",
       "      <td>3</td>\n",
       "      <td>2014-05-08</td>\n",
       "      <td>1.0</td>\n",
       "      <td>2110000.0</td>\n",
       "      <td>0</td>\n",
       "      <td>0</td>\n",
       "      <td>1959-01-01</td>\n",
       "      <td>NaT</td>\n",
       "      <td>1050</td>\n",
       "      <td>1050</td>\n",
       "      <td>2100</td>\n",
       "      <td>9200</td>\n",
       "      <td>1.0</td>\n",
       "      <td>4</td>\n",
       "      <td>14070 Military Rd S</td>\n",
       "      <td>Tukwila</td>\n",
       "      <td>WA 98168</td>\n",
       "      <td>USA</td>\n",
       "    </tr>\n",
       "    <tr>\n",
       "      <th>4348</th>\n",
       "      <td>3</td>\n",
       "      <td>2014-05-05</td>\n",
       "      <td>1.0</td>\n",
       "      <td>2199900.0</td>\n",
       "      <td>0</td>\n",
       "      <td>0</td>\n",
       "      <td>1969-01-01</td>\n",
       "      <td>2014-01-01</td>\n",
       "      <td>1120</td>\n",
       "      <td>0</td>\n",
       "      <td>1120</td>\n",
       "      <td>5427</td>\n",
       "      <td>1.5</td>\n",
       "      <td>4</td>\n",
       "      <td>19009-19021 SE 266th St</td>\n",
       "      <td>Covington</td>\n",
       "      <td>WA 98042</td>\n",
       "      <td>USA</td>\n",
       "    </tr>\n",
       "  </tbody>\n",
       "</table>\n",
       "</div>"
      ],
      "text/plain": [
       "      condition       date  floors      price  view  waterfront   yr_built  \\\n",
       "122           3 2014-05-05     3.0  2280000.0     4           0 1999-01-01   \n",
       "4347          3 2014-05-08     1.0  2110000.0     0           0 1959-01-01   \n",
       "4348          3 2014-05-05     1.0  2199900.0     0           0 1969-01-01   \n",
       "\n",
       "     yr_renovated  sqft_above  sqft_basement  sqft_living  sqft_lot  \\\n",
       "122           NaT        9410           4130        13540    307752   \n",
       "4347          NaT        1050           1050         2100      9200   \n",
       "4348   2014-01-01        1120              0         1120      5427   \n",
       "\n",
       "      bathrooms  bedrooms                   street       city  statezip  \\\n",
       "122         8.0         7         26408 NE 70th St    Redmond  WA 98053   \n",
       "4347        1.0         4      14070 Military Rd S    Tukwila  WA 98168   \n",
       "4348        1.5         4  19009-19021 SE 266th St  Covington  WA 98042   \n",
       "\n",
       "     country  \n",
       "122      USA  \n",
       "4347     USA  \n",
       "4348     USA  "
      ]
     },
     "execution_count": 51,
     "metadata": {},
     "output_type": "execute_result"
    }
   ],
   "source": [
    "df1.loc[ ((df1.price > 2000000) & (df1.sqft_living < 2200)) | (df1.sqft_living > 12000)]"
   ]
  },
  {
   "cell_type": "markdown",
   "metadata": {},
   "source": [
    "After verifying their information on Redfin website, we find that index **4347 and 4348 are outliers**, they have extra zero compared with their true value. So we fix them by replacing them with their real values."
   ]
  },
  {
   "cell_type": "code",
   "execution_count": 52,
   "metadata": {
    "collapsed": true
   },
   "outputs": [],
   "source": [
    "df1.price.replace({2110000.0:211000},inplace = True)\n",
    "df1.price.replace({2199900.0:219900},inplace = True)"
   ]
  },
  {
   "cell_type": "markdown",
   "metadata": {},
   "source": [
    "### 6.7 Inpute missing values"
   ]
  },
  {
   "cell_type": "markdown",
   "metadata": {
    "collapsed": true
   },
   "source": [
    "The missing values of price inhibits the data collection from being a comprehensive representation of the mini-world. To address this problem, we are going to use linear regression to impute the values for price. Based on the correlation matrix, we can find that view, bathrooms and sqft_living are moderately related to price, we will use these three variables are independent variables to predict the target variable price."
   ]
  },
  {
   "cell_type": "code",
   "execution_count": 53,
   "metadata": {
    "collapsed": false
   },
   "outputs": [
    {
     "name": "stdout",
     "output_type": "stream",
     "text": [
      "r-squared for this model =  0.541383361814\n"
     ]
    }
   ],
   "source": [
    "lm = LinearRegression()\n",
    "X = df1.ix[pd.notnull(df1.price),['sqft_living','bathrooms', 'view']] \n",
    "# use 'sqft_living','bathrooms', 'view' as predictor\n",
    "Y = df1[pd.notnull(df1.price)].price \n",
    "lm.fit(X, Y)\n",
    "print ('r-squared for this model = ', lm.score(X, Y)) # generate the r-squared for the model"
   ]
  },
  {
   "cell_type": "code",
   "execution_count": 54,
   "metadata": {
    "collapsed": false
   },
   "outputs": [],
   "source": [
    "null_price = df1.ix[pd.isnull(df1.price),['sqft_living','bathrooms', 'view']]\n",
    "lm.predict(null_price)  # predict the price of null values\n",
    "df1.loc[pd.isnull(df1.price), 'price'] = lm.predict(null_price)"
   ]
  },
  {
   "cell_type": "markdown",
   "metadata": {},
   "source": [
    "## 7 Data formatting "
   ]
  },
  {
   "cell_type": "code",
   "execution_count": 55,
   "metadata": {
    "collapsed": false
   },
   "outputs": [],
   "source": [
    "df2 = df1.copy(deep = True)\n",
    "# extract date values as string type from yr_built, yr_renovated, date\n",
    "# if the value is na, set it as blank\n",
    "df2['yr_built'] = [d.strftime('%Y') if not pd.isnull(d) else '' for d in df1['yr_built']]\n",
    "df2['yr_renovated'] = [d.strftime('%Y') if not pd.isnull(d) else '' for d in df1['yr_renovated']]\n",
    "df2['date'] = [d.strftime('%Y%m%dT%H%M%S') if not pd.isnull(d) else '' for d in df1['date']]"
   ]
  },
  {
   "cell_type": "code",
   "execution_count": 56,
   "metadata": {
    "collapsed": true
   },
   "outputs": [],
   "source": [
    "# write to csv file\n",
    "df2.to_csv('Zhong_27726185_ass2_data.csv', index = False)"
   ]
  },
  {
   "cell_type": "markdown",
   "metadata": {
    "collapsed": true
   },
   "source": [
    "## 8 Conclusion"
   ]
  },
  {
   "cell_type": "markdown",
   "metadata": {
    "collapsed": true
   },
   "source": [
    "This assessment measured the understanding of basic data auditing and cleansing techniques in the Python programming language. The main outcomes achieved while applying these techniques were:\n",
    "\n",
    "** parse and load json file ** with the help of json library and pandas.io module, we are able to load json file to the dataframe format and make preparations for data cleaning.\n",
    "\n",
    "** convert date to correct format ** by using convert_object function and to_datetime function, we can transform the string type to the numerical type or date type. During the execution of conversion, we need to be aware of how to handle the exceptions, we can set the keyword coerce to error to avoid that.\n",
    "\n",
    "** check syntactic errors ** syntactic correctness require us to pay attention to the value of variables to see if they are spelled correctly, within valid boundary or make sense. We can use the unique() method to inspect distinct values.\n",
    "\n",
    "** check semantic errors ** semantic correctness require us to be aware of the relationship between variables, especially the integrity consistency, contradiction and duplication. To address these types of errors, we have to propose assumptions according to the context of our data.\n",
    "\n",
    "** use graphical tool to explore dataset ** graphical tool can be very useful in many aspects, for example histogram can help us have a general idea of the distribution of data and boxplot can be used to detect univariate outlier, further more, scatterplot is intuitive for us to find relationship between variables and detect outlier of a model. \n"
   ]
  },
  {
   "cell_type": "markdown",
   "metadata": {},
   "source": [
    "## 9 Reference"
   ]
  },
  {
   "cell_type": "markdown",
   "metadata": {
    "collapsed": true
   },
   "source": [
    "- The 'pandas' project(2017) *pandas 0.20.1 documentation: options and settings*. Retrieved from http://pandas.pydata.org/pandas-docs/stable/options.html\n",
    "- Wes(2012) *Keeping array type as integer while having a NaN value*. Retrieved from http://stackoverflow.com/questions/11548005/numpy-or-pandas-keeping-array-type-as-integer-while-having-a-nan-value\n",
    "- Mia Huberta,Stephan Van der Veeken (2007, September 10). *Outlier detection for skewed data*. Retrieved from https://www.researchgate.net/publication/228375797_Outlier_detection_for_skewed_dat\n",
    "- StatsModels(2017) *medcouple*. Retrieved from http://www.statsmodels.org/stable/generated/statsmodels.stats.stattools.medcouple.html\n",
    "- Redfin(2017) *check for house price*. Retrieved from https://www.redfin.com/WA/Seattle/5422-39th-Ave-W-98199/home/123010 \n",
    "- Redfin(2017) *check for house price*. Retrieved from https://www.redfin.com/WA/Kent/12005-SE-219th-Ct-98031/home/222569\n",
    "- Redfin(2017) *check for house price*. Retrieved from https://www.redfin.com/WA/Tukwila/14070-Military-Rd-S-98168/home/191907 \n",
    "- Redfin(2017) *check for house price*. Retrieved from https://www.redfin.com/WA/Covington/19031-SE-266th-St-98042/home/371953"
   ]
  }
 ],
 "metadata": {
  "anaconda-cloud": {},
  "kernelspec": {
   "display_name": "Python [Root]",
   "language": "python",
   "name": "Python [Root]"
  },
  "language_info": {
   "codemirror_mode": {
    "name": "ipython",
    "version": 3
   },
   "file_extension": ".py",
   "mimetype": "text/x-python",
   "name": "python",
   "nbconvert_exporter": "python",
   "pygments_lexer": "ipython3",
   "version": "3.5.2"
  }
 },
 "nbformat": 4,
 "nbformat_minor": 0
}
